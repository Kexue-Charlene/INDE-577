{
 "cells": [
  {
   "cell_type": "markdown",
   "metadata": {},
   "source": [
    "\n",
    "## K-Means Clustering\n",
    "-------------------"
   ]
  },
  {
   "cell_type": "markdown",
   "metadata": {},
   "source": [
    "Before discussing about k-means clustering, we will brifly discuss about principle component analysis (PCA). \n",
    "#### PCA  \n",
    "[Principal Component Analysis](https://builtin.com/data-science/step-step-explanation-principal-component-analysis), or PCA, is a dimensionality-reduction method that is often used to reduce the dimensionality of large data sets, by transforming a large set of variables into a smaller one that still contains most of the information in the large set.\n",
    "\n",
    "Reducing the number of variables of a data set naturally comes at the expense of accuracy, but the trick in dimensionality reduction is to trade a little accuracy for simplicity. Because smaller data sets are easier to explore and visualize and make analyzing data much easier and faster for machine learning algorithms without extraneous variables to process. Geometrically speaking, principal components represent the directions of the data that explain a maximal amount of variance, that is to say, the lines that capture most information of the data. \n",
    "\n",
    "#### K-Means Clustering\n",
    "[K-means clustering](https://towardsdatascience.com/understanding-k-means-clustering-in-machine-learning-6a6e67336aa1) is one of the popular unsupervised machine learning algorithms.\n",
    "Typically, unsupervised algorithms make inferences from datasets using only input vectors without referring to known, or labelled, outcomes.  \n",
    "\n",
    "The objective of K-means is to group similar data points together and discover underlying patterns. To achieve this objective, K-means looks for a fixed number (k) of clusters in a dataset. A cluster refers to a collection of data points aggregated together because of certain similarities.  \n",
    "\n",
    "Define a target number k, which refers to the number of centroids you need in the dataset. A centroid is the imaginary or real location representing the center of the cluster. Every data point is allocated to each of the clusters through reducing the in-cluster sum of squares. In other words, the K-means algorithm identifies k number of centroids, and then allocates every data point to the nearest cluster, while keeping the centroids as small as possible. The ‘means’ in the K-means refers to averaging of the data; that is, finding the centroid.  \n",
    "\n",
    "How the K-means algorithm works:\n",
    "1. To process the learning data, the K-means algorithm in data mining starts with a first group of randomly selected centroids, which are used as the beginning points for every cluster, and then performs iterative (repetitive) calculations to optimize the positions of the centroids\n",
    "2. It halts creating and optimizing clusters when either:\n",
    " - The centroids have stabilized — there is no change in their values because the clustering has been successful.\n",
    " - The defined number of iterations has been achieved.\n",
    " \n",
    "##### PCA + K-Means Clustering\n",
    " \n",
    "PCA will project the data onto a lower dimension space that explains a maximal amount of variance of the data, after that we can better apply k-means clustering. Because we can see the data on a low dimension space that explains a maximal amount of variance, data are more clearly spreadout, and so it is easier to group the data with larger spread.   \n",
    "<img src=\"https://editor.analyticsvidhya.com/uploads/46668k-means-clustering-algorithm-in-machine-learning.png\" width=\"500\"/>  \n"
   ]
  },
  {
   "cell_type": "markdown",
   "metadata": {},
   "source": [
    "---------------------\n",
    "### In Class Example\n",
    "---------------------"
   ]
  },
  {
   "cell_type": "markdown",
   "metadata": {},
   "source": [
    "In class we implement PCA and k-means clustering to figure out how many many kinda of iris species are there in the iris dataset. Although the dataset provides the label, we will treat it as an unsupervised task and not utilize the label during training. \n",
    "Clustering using the [iris dataset](https://en.wikipedia.org/wiki/Iris_flower_data_set)\n",
    "\n",
    "Our task is to cluster the iris species using two feature measures. In order to do this we will need the following libraries:\n",
    "\n",
    "* [matplotlib](https://matplotlib.org/)\n",
    "* [sklearn](https://scikit-learn.org/stable/datasets/toy_dataset.html)\n",
    "* [mpl_toolkits](https://matplotlib.org/2.0.2/mpl_toolkits/mplot3d/tutorial.html)\n",
    "* [numpy](https://numpy.org/doc/)"
   ]
  },
  {
   "cell_type": "markdown",
   "metadata": {},
   "source": [
    "Import libraries and dataset from sklearn"
   ]
  },
  {
   "cell_type": "code",
   "execution_count": 1,
   "metadata": {
    "id": "4m4Owq8sqaEm"
   },
   "outputs": [],
   "source": [
    "import matplotlib.pyplot as plt\n",
    "from mpl_toolkits.mplot3d import Axes3D\n",
    "from sklearn import datasets\n",
    "from sklearn.decomposition import PCA\n",
    "import numpy as np\n",
    "\n",
    "#import some data to play with \n",
    "iris = datasets.load_iris()\n",
    "X = iris.data"
   ]
  },
  {
   "cell_type": "markdown",
   "metadata": {},
   "source": [
    "There are four features in X matrix"
   ]
  },
  {
   "cell_type": "code",
   "execution_count": 2,
   "metadata": {},
   "outputs": [
    {
     "data": {
      "text/plain": [
       "array([[5.1, 3.5, 1.4, 0.2],\n",
       "       [4.9, 3. , 1.4, 0.2],\n",
       "       [4.7, 3.2, 1.3, 0.2],\n",
       "       [4.6, 3.1, 1.5, 0.2],\n",
       "       [5. , 3.6, 1.4, 0.2],\n",
       "       [5.4, 3.9, 1.7, 0.4],\n",
       "       [4.6, 3.4, 1.4, 0.3],\n",
       "       [5. , 3.4, 1.5, 0.2],\n",
       "       [4.4, 2.9, 1.4, 0.2],\n",
       "       [4.9, 3.1, 1.5, 0.1],\n",
       "       [5.4, 3.7, 1.5, 0.2],\n",
       "       [4.8, 3.4, 1.6, 0.2],\n",
       "       [4.8, 3. , 1.4, 0.1],\n",
       "       [4.3, 3. , 1.1, 0.1],\n",
       "       [5.8, 4. , 1.2, 0.2],\n",
       "       [5.7, 4.4, 1.5, 0.4],\n",
       "       [5.4, 3.9, 1.3, 0.4],\n",
       "       [5.1, 3.5, 1.4, 0.3],\n",
       "       [5.7, 3.8, 1.7, 0.3],\n",
       "       [5.1, 3.8, 1.5, 0.3],\n",
       "       [5.4, 3.4, 1.7, 0.2],\n",
       "       [5.1, 3.7, 1.5, 0.4],\n",
       "       [4.6, 3.6, 1. , 0.2],\n",
       "       [5.1, 3.3, 1.7, 0.5],\n",
       "       [4.8, 3.4, 1.9, 0.2],\n",
       "       [5. , 3. , 1.6, 0.2],\n",
       "       [5. , 3.4, 1.6, 0.4],\n",
       "       [5.2, 3.5, 1.5, 0.2],\n",
       "       [5.2, 3.4, 1.4, 0.2],\n",
       "       [4.7, 3.2, 1.6, 0.2],\n",
       "       [4.8, 3.1, 1.6, 0.2],\n",
       "       [5.4, 3.4, 1.5, 0.4],\n",
       "       [5.2, 4.1, 1.5, 0.1],\n",
       "       [5.5, 4.2, 1.4, 0.2],\n",
       "       [4.9, 3.1, 1.5, 0.2],\n",
       "       [5. , 3.2, 1.2, 0.2],\n",
       "       [5.5, 3.5, 1.3, 0.2],\n",
       "       [4.9, 3.6, 1.4, 0.1],\n",
       "       [4.4, 3. , 1.3, 0.2],\n",
       "       [5.1, 3.4, 1.5, 0.2],\n",
       "       [5. , 3.5, 1.3, 0.3],\n",
       "       [4.5, 2.3, 1.3, 0.3],\n",
       "       [4.4, 3.2, 1.3, 0.2],\n",
       "       [5. , 3.5, 1.6, 0.6],\n",
       "       [5.1, 3.8, 1.9, 0.4],\n",
       "       [4.8, 3. , 1.4, 0.3],\n",
       "       [5.1, 3.8, 1.6, 0.2],\n",
       "       [4.6, 3.2, 1.4, 0.2],\n",
       "       [5.3, 3.7, 1.5, 0.2],\n",
       "       [5. , 3.3, 1.4, 0.2],\n",
       "       [7. , 3.2, 4.7, 1.4],\n",
       "       [6.4, 3.2, 4.5, 1.5],\n",
       "       [6.9, 3.1, 4.9, 1.5],\n",
       "       [5.5, 2.3, 4. , 1.3],\n",
       "       [6.5, 2.8, 4.6, 1.5],\n",
       "       [5.7, 2.8, 4.5, 1.3],\n",
       "       [6.3, 3.3, 4.7, 1.6],\n",
       "       [4.9, 2.4, 3.3, 1. ],\n",
       "       [6.6, 2.9, 4.6, 1.3],\n",
       "       [5.2, 2.7, 3.9, 1.4],\n",
       "       [5. , 2. , 3.5, 1. ],\n",
       "       [5.9, 3. , 4.2, 1.5],\n",
       "       [6. , 2.2, 4. , 1. ],\n",
       "       [6.1, 2.9, 4.7, 1.4],\n",
       "       [5.6, 2.9, 3.6, 1.3],\n",
       "       [6.7, 3.1, 4.4, 1.4],\n",
       "       [5.6, 3. , 4.5, 1.5],\n",
       "       [5.8, 2.7, 4.1, 1. ],\n",
       "       [6.2, 2.2, 4.5, 1.5],\n",
       "       [5.6, 2.5, 3.9, 1.1],\n",
       "       [5.9, 3.2, 4.8, 1.8],\n",
       "       [6.1, 2.8, 4. , 1.3],\n",
       "       [6.3, 2.5, 4.9, 1.5],\n",
       "       [6.1, 2.8, 4.7, 1.2],\n",
       "       [6.4, 2.9, 4.3, 1.3],\n",
       "       [6.6, 3. , 4.4, 1.4],\n",
       "       [6.8, 2.8, 4.8, 1.4],\n",
       "       [6.7, 3. , 5. , 1.7],\n",
       "       [6. , 2.9, 4.5, 1.5],\n",
       "       [5.7, 2.6, 3.5, 1. ],\n",
       "       [5.5, 2.4, 3.8, 1.1],\n",
       "       [5.5, 2.4, 3.7, 1. ],\n",
       "       [5.8, 2.7, 3.9, 1.2],\n",
       "       [6. , 2.7, 5.1, 1.6],\n",
       "       [5.4, 3. , 4.5, 1.5],\n",
       "       [6. , 3.4, 4.5, 1.6],\n",
       "       [6.7, 3.1, 4.7, 1.5],\n",
       "       [6.3, 2.3, 4.4, 1.3],\n",
       "       [5.6, 3. , 4.1, 1.3],\n",
       "       [5.5, 2.5, 4. , 1.3],\n",
       "       [5.5, 2.6, 4.4, 1.2],\n",
       "       [6.1, 3. , 4.6, 1.4],\n",
       "       [5.8, 2.6, 4. , 1.2],\n",
       "       [5. , 2.3, 3.3, 1. ],\n",
       "       [5.6, 2.7, 4.2, 1.3],\n",
       "       [5.7, 3. , 4.2, 1.2],\n",
       "       [5.7, 2.9, 4.2, 1.3],\n",
       "       [6.2, 2.9, 4.3, 1.3],\n",
       "       [5.1, 2.5, 3. , 1.1],\n",
       "       [5.7, 2.8, 4.1, 1.3],\n",
       "       [6.3, 3.3, 6. , 2.5],\n",
       "       [5.8, 2.7, 5.1, 1.9],\n",
       "       [7.1, 3. , 5.9, 2.1],\n",
       "       [6.3, 2.9, 5.6, 1.8],\n",
       "       [6.5, 3. , 5.8, 2.2],\n",
       "       [7.6, 3. , 6.6, 2.1],\n",
       "       [4.9, 2.5, 4.5, 1.7],\n",
       "       [7.3, 2.9, 6.3, 1.8],\n",
       "       [6.7, 2.5, 5.8, 1.8],\n",
       "       [7.2, 3.6, 6.1, 2.5],\n",
       "       [6.5, 3.2, 5.1, 2. ],\n",
       "       [6.4, 2.7, 5.3, 1.9],\n",
       "       [6.8, 3. , 5.5, 2.1],\n",
       "       [5.7, 2.5, 5. , 2. ],\n",
       "       [5.8, 2.8, 5.1, 2.4],\n",
       "       [6.4, 3.2, 5.3, 2.3],\n",
       "       [6.5, 3. , 5.5, 1.8],\n",
       "       [7.7, 3.8, 6.7, 2.2],\n",
       "       [7.7, 2.6, 6.9, 2.3],\n",
       "       [6. , 2.2, 5. , 1.5],\n",
       "       [6.9, 3.2, 5.7, 2.3],\n",
       "       [5.6, 2.8, 4.9, 2. ],\n",
       "       [7.7, 2.8, 6.7, 2. ],\n",
       "       [6.3, 2.7, 4.9, 1.8],\n",
       "       [6.7, 3.3, 5.7, 2.1],\n",
       "       [7.2, 3.2, 6. , 1.8],\n",
       "       [6.2, 2.8, 4.8, 1.8],\n",
       "       [6.1, 3. , 4.9, 1.8],\n",
       "       [6.4, 2.8, 5.6, 2.1],\n",
       "       [7.2, 3. , 5.8, 1.6],\n",
       "       [7.4, 2.8, 6.1, 1.9],\n",
       "       [7.9, 3.8, 6.4, 2. ],\n",
       "       [6.4, 2.8, 5.6, 2.2],\n",
       "       [6.3, 2.8, 5.1, 1.5],\n",
       "       [6.1, 2.6, 5.6, 1.4],\n",
       "       [7.7, 3. , 6.1, 2.3],\n",
       "       [6.3, 3.4, 5.6, 2.4],\n",
       "       [6.4, 3.1, 5.5, 1.8],\n",
       "       [6. , 3. , 4.8, 1.8],\n",
       "       [6.9, 3.1, 5.4, 2.1],\n",
       "       [6.7, 3.1, 5.6, 2.4],\n",
       "       [6.9, 3.1, 5.1, 2.3],\n",
       "       [5.8, 2.7, 5.1, 1.9],\n",
       "       [6.8, 3.2, 5.9, 2.3],\n",
       "       [6.7, 3.3, 5.7, 2.5],\n",
       "       [6.7, 3. , 5.2, 2.3],\n",
       "       [6.3, 2.5, 5. , 1.9],\n",
       "       [6.5, 3. , 5.2, 2. ],\n",
       "       [6.2, 3.4, 5.4, 2.3],\n",
       "       [5.9, 3. , 5.1, 1.8]])"
      ]
     },
     "execution_count": 2,
     "metadata": {},
     "output_type": "execute_result"
    }
   ],
   "source": [
    "X"
   ]
  },
  {
   "cell_type": "markdown",
   "metadata": {},
   "source": [
    "Look before PCA with first two features"
   ]
  },
  {
   "cell_type": "code",
   "execution_count": 3,
   "metadata": {},
   "outputs": [
    {
     "data": {
      "text/plain": [
       "Text(0.5, 1.0, 'Before PCA with first two features')"
      ]
     },
     "execution_count": 3,
     "metadata": {},
     "output_type": "execute_result"
    },
    {
     "data": {
      "image/png": "[encoded data removed]",
      "text/plain": [
       "<Figure size 432x288 with 1 Axes>"
      ]
     },
     "metadata": {
      "needs_background": "light"
     },
     "output_type": "display_data"
    }
   ],
   "source": [
    "plt.scatter(X[:,0],X[:,1],c=iris.target,cmap='rainbow')\n",
    "plt.title(\"Before PCA with first two features\")"
   ]
  },
  {
   "cell_type": "markdown",
   "metadata": {},
   "source": [
    "Reduce four features to two features by PCA, and visualize the projection. Seems it has two to three cluster here. We can see it is more spread out than before PCA."
   ]
  },
  {
   "cell_type": "code",
   "execution_count": 4,
   "metadata": {
    "colab": {
     "base_uri": "https://localhost:8080/",
     "height": 287
    },
    "id": "t-LlIWtEqtcX",
    "outputId": "f29bf302-8872-425c-d19e-8e0e2364bba1"
   },
   "outputs": [
    {
     "data": {
      "text/plain": [
       "<matplotlib.collections.PathCollection at 0x1b039b939a0>"
      ]
     },
     "execution_count": 4,
     "metadata": {},
     "output_type": "execute_result"
    },
    {
     "data": {
      "image/png": "[encoded data removed]",
      "text/plain": [
       "<Figure size 432x288 with 1 Axes>"
      ]
     },
     "metadata": {
      "needs_background": "light"
     },
     "output_type": "display_data"
    }
   ],
   "source": [
    "X_reduced = PCA(n_components=2).fit_transform(iris.data)\n",
    "y=iris.target\n",
    "plt.scatter(\n",
    "    X_reduced[:,0],\n",
    "    X_reduced[:,1],\n",
    "    c=y,\n",
    "    cmap=plt.cm.Set1,\n",
    "    edgecolor='k',\n",
    "    s=40,\n",
    ")\n",
    "plt.title(\"After PCA\")"
   ]
  },
  {
   "cell_type": "markdown",
   "metadata": {
    "id": "9iCrMA_qQXq2"
   },
   "source": [
    "See the reduced two dim X"
   ]
  },
  {
   "cell_type": "code",
   "execution_count": 5,
   "metadata": {},
   "outputs": [
    {
     "data": {
      "text/plain": [
       "array([[-2.68412563,  0.31939725],\n",
       "       [-2.71414169, -0.17700123],\n",
       "       [-2.88899057, -0.14494943],\n",
       "       [-2.74534286, -0.31829898],\n",
       "       [-2.72871654,  0.32675451],\n",
       "       [-2.28085963,  0.74133045],\n",
       "       [-2.82053775, -0.08946138],\n",
       "       [-2.62614497,  0.16338496],\n",
       "       [-2.88638273, -0.57831175],\n",
       "       [-2.6727558 , -0.11377425],\n",
       "       [-2.50694709,  0.6450689 ],\n",
       "       [-2.61275523,  0.01472994],\n",
       "       [-2.78610927, -0.235112  ],\n",
       "       [-3.22380374, -0.51139459],\n",
       "       [-2.64475039,  1.17876464],\n",
       "       [-2.38603903,  1.33806233],\n",
       "       [-2.62352788,  0.81067951],\n",
       "       [-2.64829671,  0.31184914],\n",
       "       [-2.19982032,  0.87283904],\n",
       "       [-2.5879864 ,  0.51356031],\n",
       "       [-2.31025622,  0.39134594],\n",
       "       [-2.54370523,  0.43299606],\n",
       "       [-3.21593942,  0.13346807],\n",
       "       [-2.30273318,  0.09870885],\n",
       "       [-2.35575405, -0.03728186],\n",
       "       [-2.50666891, -0.14601688],\n",
       "       [-2.46882007,  0.13095149],\n",
       "       [-2.56231991,  0.36771886],\n",
       "       [-2.63953472,  0.31203998],\n",
       "       [-2.63198939, -0.19696122],\n",
       "       [-2.58739848, -0.20431849],\n",
       "       [-2.4099325 ,  0.41092426],\n",
       "       [-2.64886233,  0.81336382],\n",
       "       [-2.59873675,  1.09314576],\n",
       "       [-2.63692688, -0.12132235],\n",
       "       [-2.86624165,  0.06936447],\n",
       "       [-2.62523805,  0.59937002],\n",
       "       [-2.80068412,  0.26864374],\n",
       "       [-2.98050204, -0.48795834],\n",
       "       [-2.59000631,  0.22904384],\n",
       "       [-2.77010243,  0.26352753],\n",
       "       [-2.84936871, -0.94096057],\n",
       "       [-2.99740655, -0.34192606],\n",
       "       [-2.40561449,  0.18887143],\n",
       "       [-2.20948924,  0.43666314],\n",
       "       [-2.71445143, -0.2502082 ],\n",
       "       [-2.53814826,  0.50377114],\n",
       "       [-2.83946217, -0.22794557],\n",
       "       [-2.54308575,  0.57941002],\n",
       "       [-2.70335978,  0.10770608],\n",
       "       [ 1.28482569,  0.68516047],\n",
       "       [ 0.93248853,  0.31833364],\n",
       "       [ 1.46430232,  0.50426282],\n",
       "       [ 0.18331772, -0.82795901],\n",
       "       [ 1.08810326,  0.07459068],\n",
       "       [ 0.64166908, -0.41824687],\n",
       "       [ 1.09506066,  0.28346827],\n",
       "       [-0.74912267, -1.00489096],\n",
       "       [ 1.04413183,  0.2283619 ],\n",
       "       [-0.0087454 , -0.72308191],\n",
       "       [-0.50784088, -1.26597119],\n",
       "       [ 0.51169856, -0.10398124],\n",
       "       [ 0.26497651, -0.55003646],\n",
       "       [ 0.98493451, -0.12481785],\n",
       "       [-0.17392537, -0.25485421],\n",
       "       [ 0.92786078,  0.46717949],\n",
       "       [ 0.66028376, -0.35296967],\n",
       "       [ 0.23610499, -0.33361077],\n",
       "       [ 0.94473373, -0.54314555],\n",
       "       [ 0.04522698, -0.58383438],\n",
       "       [ 1.11628318, -0.08461685],\n",
       "       [ 0.35788842, -0.06892503],\n",
       "       [ 1.29818388, -0.32778731],\n",
       "       [ 0.92172892, -0.18273779],\n",
       "       [ 0.71485333,  0.14905594],\n",
       "       [ 0.90017437,  0.32850447],\n",
       "       [ 1.33202444,  0.24444088],\n",
       "       [ 1.55780216,  0.26749545],\n",
       "       [ 0.81329065, -0.1633503 ],\n",
       "       [-0.30558378, -0.36826219],\n",
       "       [-0.06812649, -0.70517213],\n",
       "       [-0.18962247, -0.68028676],\n",
       "       [ 0.13642871, -0.31403244],\n",
       "       [ 1.38002644, -0.42095429],\n",
       "       [ 0.58800644, -0.48428742],\n",
       "       [ 0.80685831,  0.19418231],\n",
       "       [ 1.22069088,  0.40761959],\n",
       "       [ 0.81509524, -0.37203706],\n",
       "       [ 0.24595768, -0.2685244 ],\n",
       "       [ 0.16641322, -0.68192672],\n",
       "       [ 0.46480029, -0.67071154],\n",
       "       [ 0.8908152 , -0.03446444],\n",
       "       [ 0.23054802, -0.40438585],\n",
       "       [-0.70453176, -1.01224823],\n",
       "       [ 0.35698149, -0.50491009],\n",
       "       [ 0.33193448, -0.21265468],\n",
       "       [ 0.37621565, -0.29321893],\n",
       "       [ 0.64257601,  0.01773819],\n",
       "       [-0.90646986, -0.75609337],\n",
       "       [ 0.29900084, -0.34889781],\n",
       "       [ 2.53119273, -0.00984911],\n",
       "       [ 1.41523588, -0.57491635],\n",
       "       [ 2.61667602,  0.34390315],\n",
       "       [ 1.97153105, -0.1797279 ],\n",
       "       [ 2.35000592, -0.04026095],\n",
       "       [ 3.39703874,  0.55083667],\n",
       "       [ 0.52123224, -1.19275873],\n",
       "       [ 2.93258707,  0.3555    ],\n",
       "       [ 2.32122882, -0.2438315 ],\n",
       "       [ 2.91675097,  0.78279195],\n",
       "       [ 1.66177415,  0.24222841],\n",
       "       [ 1.80340195, -0.21563762],\n",
       "       [ 2.1655918 ,  0.21627559],\n",
       "       [ 1.34616358, -0.77681835],\n",
       "       [ 1.58592822, -0.53964071],\n",
       "       [ 1.90445637,  0.11925069],\n",
       "       [ 1.94968906,  0.04194326],\n",
       "       [ 3.48705536,  1.17573933],\n",
       "       [ 3.79564542,  0.25732297],\n",
       "       [ 1.30079171, -0.76114964],\n",
       "       [ 2.42781791,  0.37819601],\n",
       "       [ 1.19900111, -0.60609153],\n",
       "       [ 3.49992004,  0.4606741 ],\n",
       "       [ 1.38876613, -0.20439933],\n",
       "       [ 2.2754305 ,  0.33499061],\n",
       "       [ 2.61409047,  0.56090136],\n",
       "       [ 1.25850816, -0.17970479],\n",
       "       [ 1.29113206, -0.11666865],\n",
       "       [ 2.12360872, -0.20972948],\n",
       "       [ 2.38800302,  0.4646398 ],\n",
       "       [ 2.84167278,  0.37526917],\n",
       "       [ 3.23067366,  1.37416509],\n",
       "       [ 2.15943764, -0.21727758],\n",
       "       [ 1.44416124, -0.14341341],\n",
       "       [ 1.78129481, -0.49990168],\n",
       "       [ 3.07649993,  0.68808568],\n",
       "       [ 2.14424331,  0.1400642 ],\n",
       "       [ 1.90509815,  0.04930053],\n",
       "       [ 1.16932634, -0.16499026],\n",
       "       [ 2.10761114,  0.37228787],\n",
       "       [ 2.31415471,  0.18365128],\n",
       "       [ 1.9222678 ,  0.40920347],\n",
       "       [ 1.41523588, -0.57491635],\n",
       "       [ 2.56301338,  0.2778626 ],\n",
       "       [ 2.41874618,  0.3047982 ],\n",
       "       [ 1.94410979,  0.1875323 ],\n",
       "       [ 1.52716661, -0.37531698],\n",
       "       [ 1.76434572,  0.07885885],\n",
       "       [ 1.90094161,  0.11662796],\n",
       "       [ 1.39018886, -0.28266094]])"
      ]
     },
     "execution_count": 5,
     "metadata": {},
     "output_type": "execute_result"
    }
   ],
   "source": [
    "X_reduced"
   ]
  },
  {
   "cell_type": "markdown",
   "metadata": {},
   "source": [
    "See X matrix dim"
   ]
  },
  {
   "cell_type": "code",
   "execution_count": 6,
   "metadata": {
    "colab": {
     "base_uri": "https://localhost:8080/"
    },
    "id": "FgQYsibLOsl9",
    "outputId": "da3d11f8-1342-455d-d61e-d5e6105a5c0a"
   },
   "outputs": [
    {
     "data": {
      "text/plain": [
       "(150, 2)"
      ]
     },
     "execution_count": 6,
     "metadata": {},
     "output_type": "execute_result"
    }
   ],
   "source": [
    "X_reduced.shape"
   ]
  },
  {
   "cell_type": "markdown",
   "metadata": {},
   "source": [
    "See how two dim X on the plane"
   ]
  },
  {
   "cell_type": "code",
   "execution_count": 7,
   "metadata": {
    "colab": {
     "base_uri": "https://localhost:8080/",
     "height": 285
    },
    "id": "1Ys5lyvFOzea",
    "outputId": "bec8110e-8cae-4680-ee2e-aa3d655dfddc"
   },
   "outputs": [
    {
     "data": {
      "text/plain": [
       "<matplotlib.collections.PathCollection at 0x1b03bc0f1f0>"
      ]
     },
     "execution_count": 7,
     "metadata": {},
     "output_type": "execute_result"
    },
    {
     "data": {
      "image/png": "[encoded data removed]",
      "text/plain": [
       "<Figure size 432x288 with 1 Axes>"
      ]
     },
     "metadata": {
      "needs_background": "light"
     },
     "output_type": "display_data"
    }
   ],
   "source": [
    "plt.scatter(X_reduced[:,0],X_reduced[:,1])"
   ]
  },
  {
   "cell_type": "markdown",
   "metadata": {},
   "source": [
    "Randomly select two points as the initial centroids"
   ]
  },
  {
   "cell_type": "code",
   "execution_count": 8,
   "metadata": {
    "id": "s632ksKGVnVN"
   },
   "outputs": [],
   "source": [
    "k = 2\n",
    "C = []\n",
    "for _ in range(k):\n",
    "  i = np.random.randint(len(X_reduced))\n",
    "  C.append(X_reduced[i,:])"
   ]
  },
  {
   "cell_type": "markdown",
   "metadata": {},
   "source": [
    "See the position of two randomly selected centroids"
   ]
  },
  {
   "cell_type": "code",
   "execution_count": 9,
   "metadata": {
    "colab": {
     "base_uri": "https://localhost:8080/"
    },
    "id": "8MyVuy1-V8Gy",
    "outputId": "403afd8e-6a7c-400f-c501-a0620e20002a"
   },
   "outputs": [
    {
     "data": {
      "text/plain": [
       "[array([-2.86624165,  0.06936447]), array([ 0.98493451, -0.12481785])]"
      ]
     },
     "execution_count": 9,
     "metadata": {},
     "output_type": "execute_result"
    }
   ],
   "source": [
    "C"
   ]
  },
  {
   "cell_type": "markdown",
   "metadata": {},
   "source": [
    "Define a function of euclidean distance"
   ]
  },
  {
   "cell_type": "code",
   "execution_count": 10,
   "metadata": {
    "id": "rsb12dGbWDKQ"
   },
   "outputs": [],
   "source": [
    "def distance(v,w):\n",
    "  return np.sqrt((v-w)@(v-w))"
   ]
  },
  {
   "cell_type": "markdown",
   "metadata": {},
   "source": [
    "see the euclidean distance between the first centroid and the first X"
   ]
  },
  {
   "cell_type": "code",
   "execution_count": 11,
   "metadata": {
    "colab": {
     "base_uri": "https://localhost:8080/"
    },
    "id": "Gm4RcEdOWPsW",
    "outputId": "730e633e-e42c-4811-9e25-26d18c4cc8fb"
   },
   "outputs": [
    {
     "data": {
      "text/plain": [
       "0.3093260990557746"
      ]
     },
     "execution_count": 11,
     "metadata": {},
     "output_type": "execute_result"
    }
   ],
   "source": [
    "distance(C[0],X_reduced[0])"
   ]
  },
  {
   "cell_type": "markdown",
   "metadata": {},
   "source": [
    "Define a function to calculate the distance between each points to the centroids and every points get the same number of distance with the same number of centroid, and for each points we will assign it to the nearest centroid, so for each point we need to find the samllest distance from the point to the centroid among other distance."
   ]
  },
  {
   "cell_type": "code",
   "execution_count": 12,
   "metadata": {
    "id": "nfe7H6s4WUKY"
   },
   "outputs": [],
   "source": [
    "def assignment(x,Centroids):\n",
    "  distances = np.array([distance(x,centroid) for centroid in Centroids])\n",
    "  return np.argmin(distances)"
   ]
  },
  {
   "cell_type": "markdown",
   "metadata": {},
   "source": [
    "See what cluster will the first point in X get assigned"
   ]
  },
  {
   "cell_type": "code",
   "execution_count": 13,
   "metadata": {
    "colab": {
     "base_uri": "https://localhost:8080/"
    },
    "id": "gklQgE8qWtkC",
    "outputId": "05f01221-ec69-4497-af78-57fc218886b9"
   },
   "outputs": [
    {
     "data": {
      "text/plain": [
       "0"
      ]
     },
     "execution_count": 13,
     "metadata": {},
     "output_type": "execute_result"
    }
   ],
   "source": [
    "assignment(X_reduced[0],C)"
   ]
  },
  {
   "cell_type": "code",
   "execution_count": 14,
   "metadata": {
    "colab": {
     "base_uri": "https://localhost:8080/",
     "height": 268
    },
    "id": "pb01_0d6orVw",
    "outputId": "cb2c755a-d5d8-4d28-f04a-46f4a6ddd1df"
   },
   "outputs": [
    {
     "data": {
      "image/png": "[encoded data removed]",
      "text/plain": [
       "<Figure size 432x288 with 1 Axes>"
      ]
     },
     "metadata": {
      "needs_background": "light"
     },
     "output_type": "display_data"
    }
   ],
   "source": [
    "for x in X_reduced:\n",
    "  if assignment(x,C) == 0:\n",
    "    plt.scatter(x[0],x[1],color = 'blue')\n",
    "  else:\n",
    "    plt.scatter(x[0],x[1],color = 'red')\n",
    "plt.show()\n"
   ]
  },
  {
   "cell_type": "markdown",
   "metadata": {},
   "source": [
    "calculate distance for every points"
   ]
  },
  {
   "cell_type": "code",
   "execution_count": 15,
   "metadata": {
    "id": "_xNelibSYWKs"
   },
   "outputs": [],
   "source": [
    "def make_classes(data,Centroids):\n",
    "  A = dict()\n",
    "  for i in range(len(Centroids)):\n",
    "    A[i] = []\n",
    "\n",
    "  for x in data:\n",
    "     A[assignment(x,Centroids)].append(x)\n",
    "  return A"
   ]
  },
  {
   "cell_type": "code",
   "execution_count": 16,
   "metadata": {
    "id": "dGmJNmC2Y9JZ"
   },
   "outputs": [],
   "source": [
    "A = make_classes(X_reduced,C)"
   ]
  },
  {
   "cell_type": "code",
   "execution_count": 17,
   "metadata": {
    "id": "Ev4t-qTDZDek"
   },
   "outputs": [
    {
     "data": {
      "text/plain": [
       "{0: [array([-2.68412563,  0.31939725]),\n",
       "  array([-2.71414169, -0.17700123]),\n",
       "  array([-2.88899057, -0.14494943]),\n",
       "  array([-2.74534286, -0.31829898]),\n",
       "  array([-2.72871654,  0.32675451]),\n",
       "  array([-2.28085963,  0.74133045]),\n",
       "  array([-2.82053775, -0.08946138]),\n",
       "  array([-2.62614497,  0.16338496]),\n",
       "  array([-2.88638273, -0.57831175]),\n",
       "  array([-2.6727558 , -0.11377425]),\n",
       "  array([-2.50694709,  0.6450689 ]),\n",
       "  array([-2.61275523,  0.01472994]),\n",
       "  array([-2.78610927, -0.235112  ]),\n",
       "  array([-3.22380374, -0.51139459]),\n",
       "  array([-2.64475039,  1.17876464]),\n",
       "  array([-2.38603903,  1.33806233]),\n",
       "  array([-2.62352788,  0.81067951]),\n",
       "  array([-2.64829671,  0.31184914]),\n",
       "  array([-2.19982032,  0.87283904]),\n",
       "  array([-2.5879864 ,  0.51356031]),\n",
       "  array([-2.31025622,  0.39134594]),\n",
       "  array([-2.54370523,  0.43299606]),\n",
       "  array([-3.21593942,  0.13346807]),\n",
       "  array([-2.30273318,  0.09870885]),\n",
       "  array([-2.35575405, -0.03728186]),\n",
       "  array([-2.50666891, -0.14601688]),\n",
       "  array([-2.46882007,  0.13095149]),\n",
       "  array([-2.56231991,  0.36771886]),\n",
       "  array([-2.63953472,  0.31203998]),\n",
       "  array([-2.63198939, -0.19696122]),\n",
       "  array([-2.58739848, -0.20431849]),\n",
       "  array([-2.4099325 ,  0.41092426]),\n",
       "  array([-2.64886233,  0.81336382]),\n",
       "  array([-2.59873675,  1.09314576]),\n",
       "  array([-2.63692688, -0.12132235]),\n",
       "  array([-2.86624165,  0.06936447]),\n",
       "  array([-2.62523805,  0.59937002]),\n",
       "  array([-2.80068412,  0.26864374]),\n",
       "  array([-2.98050204, -0.48795834]),\n",
       "  array([-2.59000631,  0.22904384]),\n",
       "  array([-2.77010243,  0.26352753]),\n",
       "  array([-2.84936871, -0.94096057]),\n",
       "  array([-2.99740655, -0.34192606]),\n",
       "  array([-2.40561449,  0.18887143]),\n",
       "  array([-2.20948924,  0.43666314]),\n",
       "  array([-2.71445143, -0.2502082 ]),\n",
       "  array([-2.53814826,  0.50377114]),\n",
       "  array([-2.83946217, -0.22794557]),\n",
       "  array([-2.54308575,  0.57941002]),\n",
       "  array([-2.70335978,  0.10770608])],\n",
       " 1: [array([1.28482569, 0.68516047]),\n",
       "  array([0.93248853, 0.31833364]),\n",
       "  array([1.46430232, 0.50426282]),\n",
       "  array([ 0.18331772, -0.82795901]),\n",
       "  array([1.08810326, 0.07459068]),\n",
       "  array([ 0.64166908, -0.41824687]),\n",
       "  array([1.09506066, 0.28346827]),\n",
       "  array([-0.74912267, -1.00489096]),\n",
       "  array([1.04413183, 0.2283619 ]),\n",
       "  array([-0.0087454 , -0.72308191]),\n",
       "  array([-0.50784088, -1.26597119]),\n",
       "  array([ 0.51169856, -0.10398124]),\n",
       "  array([ 0.26497651, -0.55003646]),\n",
       "  array([ 0.98493451, -0.12481785]),\n",
       "  array([-0.17392537, -0.25485421]),\n",
       "  array([0.92786078, 0.46717949]),\n",
       "  array([ 0.66028376, -0.35296967]),\n",
       "  array([ 0.23610499, -0.33361077]),\n",
       "  array([ 0.94473373, -0.54314555]),\n",
       "  array([ 0.04522698, -0.58383438]),\n",
       "  array([ 1.11628318, -0.08461685]),\n",
       "  array([ 0.35788842, -0.06892503]),\n",
       "  array([ 1.29818388, -0.32778731]),\n",
       "  array([ 0.92172892, -0.18273779]),\n",
       "  array([0.71485333, 0.14905594]),\n",
       "  array([0.90017437, 0.32850447]),\n",
       "  array([1.33202444, 0.24444088]),\n",
       "  array([1.55780216, 0.26749545]),\n",
       "  array([ 0.81329065, -0.1633503 ]),\n",
       "  array([-0.30558378, -0.36826219]),\n",
       "  array([-0.06812649, -0.70517213]),\n",
       "  array([-0.18962247, -0.68028676]),\n",
       "  array([ 0.13642871, -0.31403244]),\n",
       "  array([ 1.38002644, -0.42095429]),\n",
       "  array([ 0.58800644, -0.48428742]),\n",
       "  array([0.80685831, 0.19418231]),\n",
       "  array([1.22069088, 0.40761959]),\n",
       "  array([ 0.81509524, -0.37203706]),\n",
       "  array([ 0.24595768, -0.2685244 ]),\n",
       "  array([ 0.16641322, -0.68192672]),\n",
       "  array([ 0.46480029, -0.67071154]),\n",
       "  array([ 0.8908152 , -0.03446444]),\n",
       "  array([ 0.23054802, -0.40438585]),\n",
       "  array([-0.70453176, -1.01224823]),\n",
       "  array([ 0.35698149, -0.50491009]),\n",
       "  array([ 0.33193448, -0.21265468]),\n",
       "  array([ 0.37621565, -0.29321893]),\n",
       "  array([0.64257601, 0.01773819]),\n",
       "  array([-0.90646986, -0.75609337]),\n",
       "  array([ 0.29900084, -0.34889781]),\n",
       "  array([ 2.53119273, -0.00984911]),\n",
       "  array([ 1.41523588, -0.57491635]),\n",
       "  array([2.61667602, 0.34390315]),\n",
       "  array([ 1.97153105, -0.1797279 ]),\n",
       "  array([ 2.35000592, -0.04026095]),\n",
       "  array([3.39703874, 0.55083667]),\n",
       "  array([ 0.52123224, -1.19275873]),\n",
       "  array([2.93258707, 0.3555    ]),\n",
       "  array([ 2.32122882, -0.2438315 ]),\n",
       "  array([2.91675097, 0.78279195]),\n",
       "  array([1.66177415, 0.24222841]),\n",
       "  array([ 1.80340195, -0.21563762]),\n",
       "  array([2.1655918 , 0.21627559]),\n",
       "  array([ 1.34616358, -0.77681835]),\n",
       "  array([ 1.58592822, -0.53964071]),\n",
       "  array([1.90445637, 0.11925069]),\n",
       "  array([1.94968906, 0.04194326]),\n",
       "  array([3.48705536, 1.17573933]),\n",
       "  array([3.79564542, 0.25732297]),\n",
       "  array([ 1.30079171, -0.76114964]),\n",
       "  array([2.42781791, 0.37819601]),\n",
       "  array([ 1.19900111, -0.60609153]),\n",
       "  array([3.49992004, 0.4606741 ]),\n",
       "  array([ 1.38876613, -0.20439933]),\n",
       "  array([2.2754305 , 0.33499061]),\n",
       "  array([2.61409047, 0.56090136]),\n",
       "  array([ 1.25850816, -0.17970479]),\n",
       "  array([ 1.29113206, -0.11666865]),\n",
       "  array([ 2.12360872, -0.20972948]),\n",
       "  array([2.38800302, 0.4646398 ]),\n",
       "  array([2.84167278, 0.37526917]),\n",
       "  array([3.23067366, 1.37416509]),\n",
       "  array([ 2.15943764, -0.21727758]),\n",
       "  array([ 1.44416124, -0.14341341]),\n",
       "  array([ 1.78129481, -0.49990168]),\n",
       "  array([3.07649993, 0.68808568]),\n",
       "  array([2.14424331, 0.1400642 ]),\n",
       "  array([1.90509815, 0.04930053]),\n",
       "  array([ 1.16932634, -0.16499026]),\n",
       "  array([2.10761114, 0.37228787]),\n",
       "  array([2.31415471, 0.18365128]),\n",
       "  array([1.9222678 , 0.40920347]),\n",
       "  array([ 1.41523588, -0.57491635]),\n",
       "  array([2.56301338, 0.2778626 ]),\n",
       "  array([2.41874618, 0.3047982 ]),\n",
       "  array([1.94410979, 0.1875323 ]),\n",
       "  array([ 1.52716661, -0.37531698]),\n",
       "  array([1.76434572, 0.07885885]),\n",
       "  array([1.90094161, 0.11662796]),\n",
       "  array([ 1.39018886, -0.28266094])]}"
      ]
     },
     "execution_count": 17,
     "metadata": {},
     "output_type": "execute_result"
    }
   ],
   "source": [
    "A"
   ]
  },
  {
   "cell_type": "markdown",
   "metadata": {},
   "source": [
    "Calculate new centroid by taking the average of distances"
   ]
  },
  {
   "cell_type": "code",
   "execution_count": 18,
   "metadata": {
    "id": "Nr7eJUuHZmsu"
   },
   "outputs": [],
   "source": [
    "def new_Centroids(data,Centroids):\n",
    "  new_Centroids =[]\n",
    "  A = make_classes(data,Centroids)\n",
    "  for i in range(len(Centroids)):\n",
    "    new_Centroids.append((1/len(A[i]))*sum(A[i]))\n",
    "\n",
    "  return new_Centroids  "
   ]
  },
  {
   "cell_type": "markdown",
   "metadata": {},
   "source": [
    "new centroid"
   ]
  },
  {
   "cell_type": "code",
   "execution_count": 19,
   "metadata": {
    "id": "SAIsHaClaIok"
   },
   "outputs": [],
   "source": [
    "new_C = new_Centroids(X_reduced,C)  "
   ]
  },
  {
   "cell_type": "markdown",
   "metadata": {},
   "source": [
    "test if it moves"
   ]
  },
  {
   "cell_type": "code",
   "execution_count": 20,
   "metadata": {
    "colab": {
     "base_uri": "https://localhost:8080/"
    },
    "id": "yTugXD6paXWb",
    "outputId": "9cee2249-f6f2-45d0-b589-c1ea84d85e2a"
   },
   "outputs": [
    {
     "data": {
      "text/plain": [
       "[array([-2.64241546,  0.19088505]), array([ 1.32120773, -0.09544252])]"
      ]
     },
     "execution_count": 20,
     "metadata": {},
     "output_type": "execute_result"
    }
   ],
   "source": [
    "#\n",
    "new_C"
   ]
  },
  {
   "cell_type": "markdown",
   "metadata": {},
   "source": [
    "now put everything together and see how centroids change with k =3 and with 3 iteration."
   ]
  },
  {
   "cell_type": "code",
   "execution_count": 21,
   "metadata": {
    "id": "dUTCzzbKn1c4"
   },
   "outputs": [],
   "source": [
    "def initialize_centroids(data,k=2):\n",
    "  Centroids =[]\n",
    "  for _ in range(k):\n",
    "    i = np.random.randint(len(X_reduced))\n",
    "    Centroids.append(X_reduced[i,:])\n",
    "  return Centroids\n",
    "\n",
    "def assignment(x,Centroids):\n",
    "  distances = np.array([distance(x,centroid) for centroid in Centroids])\n",
    "  return np.argmin(distances)\n",
    "\n",
    "def make_classes(data,Centroids):\n",
    "  A = dict()\n",
    "  for i in range(len(Centroids)):\n",
    "    A[i] = []\n",
    "\n",
    "  for x in data:\n",
    "     A[assignment(x,Centroids)].append(x)\n",
    "  return A\n",
    "\n",
    "def new_centroids(data,Centroids):\n",
    "  new_Centroids =[]\n",
    "  A = make_classes(data,Centroids)\n",
    "  for i in range(len(Centroids)):\n",
    "    new_Centroids.append((1/len(A[i]))*sum(A[i]))\n",
    "  return new_Centroids  \n",
    "\n",
    "k=3\n",
    "C0 = initialize_centroids(X_reduced,k=k)\n",
    "C1 = new_centroids(X_reduced,C0)\n",
    "C2 = new_centroids(X_reduced,C1)\n",
    "C3 = new_centroids(X_reduced,C2)"
   ]
  },
  {
   "cell_type": "markdown",
   "metadata": {},
   "source": [
    "Initial state"
   ]
  },
  {
   "cell_type": "code",
   "execution_count": 22,
   "metadata": {
    "colab": {
     "base_uri": "https://localhost:8080/",
     "height": 268
    },
    "id": "oKZ9CIUsoFJy",
    "outputId": "d22232ed-4d21-494c-cb1a-65353924a0af"
   },
   "outputs": [
    {
     "data": {
      "image/png": "[encoded data removed]",
      "text/plain": [
       "<Figure size 432x288 with 1 Axes>"
      ]
     },
     "metadata": {
      "needs_background": "light"
     },
     "output_type": "display_data"
    }
   ],
   "source": [
    "for x in X_reduced:\n",
    "  if assignment(x,C0) == 0:\n",
    "    plt.scatter(x[0],x[1],color='blue')\n",
    "  elif assignment(x,C0) == 1:\n",
    "    plt.scatter(x[0],x[1],color='green')\n",
    "  else:\n",
    "    plt.scatter(x[0],x[1],color='red')"
   ]
  },
  {
   "cell_type": "markdown",
   "metadata": {},
   "source": [
    "Iterate once and new centroid"
   ]
  },
  {
   "cell_type": "code",
   "execution_count": 23,
   "metadata": {
    "colab": {
     "base_uri": "https://localhost:8080/",
     "height": 268
    },
    "id": "hohHKy7oodAd",
    "outputId": "d82b32f1-cf1c-4504-f329-82ce64a193fb"
   },
   "outputs": [
    {
     "data": {
      "image/png": "[encoded data removed]",
      "text/plain": [
       "<Figure size 432x288 with 1 Axes>"
      ]
     },
     "metadata": {
      "needs_background": "light"
     },
     "output_type": "display_data"
    }
   ],
   "source": [
    "for x in X_reduced:\n",
    "  if assignment(x,C1) == 0:\n",
    "    plt.scatter(x[0],x[1],color='blue')\n",
    "  elif assignment(x,C1) == 1:\n",
    "    plt.scatter(x[0],x[1],color='green')\n",
    "  else:\n",
    "    plt.scatter(x[0],x[1],color='red')"
   ]
  },
  {
   "cell_type": "markdown",
   "metadata": {},
   "source": [
    "put everything together again, and now we iterate at most 100 times and when the maximum centroid distance is equal to or less than 0.01, we will stop the iteration. And we also calculate mean square error (the distance between every points and their cluster centroids)"
   ]
  },
  {
   "cell_type": "code",
   "execution_count": 24,
   "metadata": {
    "id": "keVPhbTdax49"
   },
   "outputs": [],
   "source": [
    "def initialize_centroids(data,k=2):\n",
    "  Centroids =[]\n",
    "  for _ in range(k):\n",
    "    i = np.random.randint(len(X_reduced))\n",
    "    Centroids.append(X_reduced[i,:])\n",
    "  return Centroids\n",
    "\n",
    "def assignment(x,Centroids):\n",
    "  distances = np.array([distance(x,centroid) for centroid in Centroids])\n",
    "  return np.argmin(distances)\n",
    "\n",
    "def make_classes(data,Centroids):\n",
    "  A = dict()\n",
    "  for i in range(len(Centroids)):\n",
    "    A[i] = []\n",
    "\n",
    "  for x in data:\n",
    "     A[assignment(x,Centroids)].append(x)\n",
    "  return A\n",
    "\n",
    "def new_centroids(data,Centroids):\n",
    "  new_Centroids =[]\n",
    "  A = make_classes(data,Centroids)\n",
    "  for i in range(len(Centroids)):\n",
    "    new_Centroids.append((1/len(A[i]))*sum(A[i]))\n",
    "  return new_Centroids  \n",
    "\n",
    "def fit(data, k=3, max_iterations=100, epsilon=0.01):\n",
    "  C_old = initialize_centroids(data, k = k)\n",
    "  C_new = new_centroids(data,C_old)\n",
    "  centroid_distances = [distance(p[0],p[1]) for p in zip (C_old,C_new)]\n",
    "  iterations = 0\n",
    "  while max(centroid_distances) > epsilon  and iterations < max_iterations:\n",
    "    C_old, C_new = C_new, new_centroids(data,C_new)\n",
    "    centroid_distances = [distance(p[0],p[1]) for p in zip (C_old,C_new)]\n",
    "    iterations += 1\n",
    "  return C_new\n",
    "\n",
    "\n",
    "def mse_classes(data,Centroids):\n",
    "  errors = []\n",
    "  A_classes = make_classes(data,Centroids)\n",
    "  for i, centroid in enumerate(Centroids):\n",
    "\n",
    "    error = sum(0.5*(centroid-a)@(centroid-a) for a in A_classes[i])\n",
    "    errors.append(error)\n",
    "  return sum(x for x in errors)"
   ]
  },
  {
   "cell_type": "markdown",
   "metadata": {},
   "source": [
    "try when k=3 and see its MSE"
   ]
  },
  {
   "cell_type": "code",
   "execution_count": 25,
   "metadata": {
    "colab": {
     "base_uri": "https://localhost:8080/"
    },
    "id": "0eXsZewgpZO2",
    "outputId": "f5152301-b943-4c44-f714-0eb5cb4e6ab1"
   },
   "outputs": [
    {
     "name": "stdout",
     "output_type": "stream",
     "text": [
      "65.15800116841532\n"
     ]
    }
   ],
   "source": [
    "C = fit(X_reduced)\n",
    "print(mse_classes(X_reduced,C))"
   ]
  },
  {
   "cell_type": "markdown",
   "metadata": {},
   "source": [
    "now we try different k and store in C"
   ]
  },
  {
   "cell_type": "code",
   "execution_count": 26,
   "metadata": {
    "id": "UTbOu2VLltZk"
   },
   "outputs": [],
   "source": [
    "C1 = fit(X_reduced,k=1)\n",
    "C2 = fit(X_reduced,k=2)\n",
    "C3 = fit(X_reduced,k=3)\n",
    "C4 = fit(X_reduced,k=4)\n",
    "C5 = fit(X_reduced,k=5)\n",
    "C6 = fit(X_reduced,k=6)\n",
    "# C7 = fit(X,k=7)\n",
    "\n",
    "C = [C2,C3,C4,C5,C6]"
   ]
  },
  {
   "cell_type": "markdown",
   "metadata": {},
   "source": [
    "calculate MSE for different k and plot MSE as a function of k"
   ]
  },
  {
   "cell_type": "markdown",
   "metadata": {},
   "source": [
    "#### Elbow method\n",
    "In the Elbow method, we are actually varying the number of clusters ( K ) from 1 – 6. For each value of K, we are calculating WCSS ( Within-Cluster Sum of Square ). WCSS is the sum of squared distance between each point and the centroid in a cluster. When we plot the WCSS with the K value, the plot looks like an Elbow. As the number of clusters increases, the WCSS value will start to decrease. WCSS value is largest when K = 1. When we analyze the graph we can see that the graph will rapidly change at a point and thus creating an elbow shape. From this point, the graph starts to move almost parallel to the X-axis. The K value corresponding to this point is the optimal K value or an optimal number of clusters."
   ]
  },
  {
   "cell_type": "code",
   "execution_count": 27,
   "metadata": {
    "colab": {
     "base_uri": "https://localhost:8080/",
     "height": 503
    },
    "id": "llWms2Y_iaxt",
    "outputId": "ab62dbe0-c06a-4c5b-ff07-6b5e5c0e49bf"
   },
   "outputs": [
    {
     "data": {
      "text/plain": [
       "Text(0.5, 1.0, 'Elbow method')"
      ]
     },
     "execution_count": 27,
     "metadata": {},
     "output_type": "execute_result"
    },
    {
     "data": {
      "image/png": "[encoded data removed]",
      "text/plain": [
       "<Figure size 720x576 with 1 Axes>"
      ]
     },
     "metadata": {
      "needs_background": "light"
     },
     "output_type": "display_data"
    }
   ],
   "source": [
    "errors = [mse_classes(X_reduced,centroids) for centroids in C]\n",
    "plt.figure(figsize=(10,8))\n",
    "plt.plot([i for i in range(2,7)],errors)\n",
    "plt.xlabel(\"K\")\n",
    "plt.title(\"Elbow method\")"
   ]
  },
  {
   "cell_type": "markdown",
   "metadata": {},
   "source": [
    "#### Conclusion\n",
    "Here we will pick k=3 as our cluster, and which is close with our assumption when doing PCA. And in reality there are really 3 species in the dataset!"
   ]
  },
  {
   "cell_type": "markdown",
   "metadata": {},
   "source": [
    "-------------------------------\n",
    "\n",
    "### Implementation on Different Dataset\n",
    "---------------------"
   ]
  },
  {
   "cell_type": "markdown",
   "metadata": {},
   "source": [
    "#### Dataset Information\n",
    "we will use [make_blobs dataset](https://scikit-learn.org/stable/modules/generated/sklearn.datasets.make_blobs.html) from sklearn.datasets.\n",
    "\n",
    "I will generate the dataset from make_blobs dataset, with 400 observations and 4 features and 4 clusters with some noise around them. \n",
    "\n",
    "###### Our goal is to find the cluster of the data without looking the labels."
   ]
  },
  {
   "cell_type": "markdown",
   "metadata": {},
   "source": [
    "The packages we will use in the practice are:\n",
    "* [matplotlib](https://matplotlib.org/)\n",
    "* [sklearn](https://scikit-learn.org/stable/datasets/toy_dataset.html)\n",
    "* [mpl_toolkits](https://matplotlib.org/2.0.2/mpl_toolkits/mplot3d/tutorial.html)\n",
    "* [seaborn](https://seaborn.pydata.org/)\n",
    "* [numpy](https://numpy.org/doc/)"
   ]
  },
  {
   "cell_type": "markdown",
   "metadata": {},
   "source": [
    "Import libraries and create data"
   ]
  },
  {
   "cell_type": "code",
   "execution_count": 28,
   "metadata": {},
   "outputs": [],
   "source": [
    "import matplotlib.pyplot as plt\n",
    "from mpl_toolkits.mplot3d import Axes3D\n",
    "from sklearn import datasets\n",
    "from sklearn.decomposition import PCA\n",
    "from sklearn.datasets import make_blobs\n",
    "import numpy as np"
   ]
  },
  {
   "cell_type": "markdown",
   "metadata": {},
   "source": [
    "create 4 clusters, 400 observations, and 4 features. Extract features and put into X matrix. There are four features in X matrix"
   ]
  },
  {
   "cell_type": "code",
   "execution_count": 29,
   "metadata": {},
   "outputs": [
    {
     "data": {
      "text/plain": [
       "array([[ -9.05364074,  11.35447843,   9.26338704,  -6.62967366],\n",
       "       [ -3.59479682,   5.39791086,   8.06721835,  -4.10445201],\n",
       "       [  0.74212923,   2.52693613, -13.12512873,  -6.86952988],\n",
       "       ...,\n",
       "       [  4.53624402,   8.82873639,  -1.88454361,   7.53178274],\n",
       "       [  0.29921798,  -1.16628332, -10.84529133,  -4.80346188],\n",
       "       [ -8.45716431,   5.72381627,   9.02679639,  -2.64037511]])"
      ]
     },
     "execution_count": 29,
     "metadata": {},
     "output_type": "execute_result"
    }
   ],
   "source": [
    "df = make_blobs(n_samples=400, n_features=4, centers=4, cluster_std=1.8,random_state=101)\n",
    "X = df[0]\n",
    "X"
   ]
  },
  {
   "cell_type": "markdown",
   "metadata": {},
   "source": [
    "Look before PCA with the two features"
   ]
  },
  {
   "cell_type": "code",
   "execution_count": 30,
   "metadata": {},
   "outputs": [
    {
     "data": {
      "text/plain": [
       "Text(0.5, 1.0, 'Before PCA with first two features')"
      ]
     },
     "execution_count": 30,
     "metadata": {},
     "output_type": "execute_result"
    },
    {
     "data": {
      "image/png": "[encoded data removed]",
      "text/plain": [
       "<Figure size 432x288 with 1 Axes>"
      ]
     },
     "metadata": {
      "needs_background": "light"
     },
     "output_type": "display_data"
    }
   ],
   "source": [
    "plt.scatter(df[0][:,0],df[0][:,1],c=df[1],cmap='rainbow')\n",
    "plt.title(\"Before PCA with first two features\")"
   ]
  },
  {
   "cell_type": "markdown",
   "metadata": {},
   "source": [
    "Reduce four features to two features by PCA, and visualize the projection. It seems there may be 3 clusters. More spread out than before PCA"
   ]
  },
  {
   "cell_type": "code",
   "execution_count": 31,
   "metadata": {},
   "outputs": [
    {
     "data": {
      "text/plain": [
       "<matplotlib.collections.PathCollection at 0x1b03bf4c550>"
      ]
     },
     "execution_count": 31,
     "metadata": {},
     "output_type": "execute_result"
    },
    {
     "data": {
      "image/png": "[encoded data removed]",
      "text/plain": [
       "<Figure size 432x288 with 1 Axes>"
      ]
     },
     "metadata": {
      "needs_background": "light"
     },
     "output_type": "display_data"
    }
   ],
   "source": [
    "X_reduced = PCA(n_components=2).fit_transform(X)\n",
    "y=df[1]\n",
    "plt.scatter(\n",
    "    X_reduced[:,0],\n",
    "    X_reduced[:,1],\n",
    "    c=y,\n",
    "    cmap=plt.cm.Set1,\n",
    "    edgecolor='k',\n",
    "    s=40,\n",
    ")\n",
    "plt.title(\"After PCA\")"
   ]
  },
  {
   "cell_type": "markdown",
   "metadata": {},
   "source": [
    "See the reduced two dim X"
   ]
  },
  {
   "cell_type": "code",
   "execution_count": 32,
   "metadata": {},
   "outputs": [
    {
     "data": {
      "text/plain": [
       "array([[ 1.57006388e+01,  4.36208122e+00],\n",
       "       [ 1.04383118e+01,  1.95509807e+00],\n",
       "       [-8.33927946e+00, -5.05293201e+00],\n",
       "       [-4.34600547e+00,  1.01571027e+01],\n",
       "       [ 1.26493782e+01, -1.76837092e+00],\n",
       "       [ 1.48501232e+01,  2.46934615e+00],\n",
       "       [-7.55541052e+00, -1.44745828e+00],\n",
       "       [-5.56416569e+00, -5.68378372e-02],\n",
       "       [-6.78598268e+00, -7.57776954e+00],\n",
       "       [-2.72598024e+00, -2.40333783e+00],\n",
       "       [-6.47637120e+00,  1.10341264e+01],\n",
       "       [-6.84704473e+00, -1.28082637e+00],\n",
       "       [-4.31541328e+00, -4.67093507e+00],\n",
       "       [ 9.69676205e+00,  4.50277393e-01],\n",
       "       [-7.61251899e+00,  1.11807960e+01],\n",
       "       [-2.33729686e-01, -3.51499475e+00],\n",
       "       [-3.46206485e+00, -8.62923280e+00],\n",
       "       [-6.73148040e+00,  1.02532840e+01],\n",
       "       [-1.21144987e+00, -5.62645575e+00],\n",
       "       [ 1.06105112e+01,  2.08467006e+00],\n",
       "       [-7.86496436e+00,  8.86785339e+00],\n",
       "       [-5.51699197e+00, -5.53858805e+00],\n",
       "       [ 2.62332066e+00, -8.08649495e+00],\n",
       "       [ 1.31173438e+01,  2.88841791e-01],\n",
       "       [-7.05913900e+00,  9.15175639e+00],\n",
       "       [-2.17887964e+00, -5.35705371e+00],\n",
       "       [-6.71320254e+00, -5.08255239e+00],\n",
       "       [-2.21129564e+00, -5.18020896e+00],\n",
       "       [-1.70985600e+00, -6.58530841e+00],\n",
       "       [ 1.76785499e+01,  1.45719696e+00],\n",
       "       [-1.58621077e-01, -8.42873537e+00],\n",
       "       [-6.10319959e+00, -2.22992356e+00],\n",
       "       [-2.14640834e+00, -8.45890252e+00],\n",
       "       [ 1.46468859e+01,  1.71086112e+00],\n",
       "       [-1.70735560e+00, -6.88150229e+00],\n",
       "       [-3.91594318e+00, -4.02497026e+00],\n",
       "       [ 1.42435757e+01,  9.56481769e+00],\n",
       "       [ 1.51635965e+01,  2.08601201e+00],\n",
       "       [ 1.49736967e+01,  2.92117429e+00],\n",
       "       [-7.20312034e+00,  1.27483558e+01],\n",
       "       [ 1.21368633e+01,  4.25221111e+00],\n",
       "       [-1.64722057e+00, -1.46432830e+00],\n",
       "       [-4.40514401e+00, -6.68926725e+00],\n",
       "       [-8.29195023e+00,  1.30707143e+01],\n",
       "       [ 1.65718629e+01,  4.01219897e+00],\n",
       "       [-7.80077020e+00, -2.94263770e+00],\n",
       "       [-6.75062394e+00, -4.43789373e+00],\n",
       "       [-4.21159771e+00, -8.51974235e+00],\n",
       "       [ 1.24558977e+01,  2.87044854e+00],\n",
       "       [-6.71733533e+00,  8.24201338e+00],\n",
       "       [-8.65056113e+00, -7.23700854e+00],\n",
       "       [-6.08962858e+00,  9.23879795e+00],\n",
       "       [-4.73682278e+00, -1.47341916e+00],\n",
       "       [ 1.36965609e+01,  2.32649501e+00],\n",
       "       [ 1.31997227e+01,  1.71858308e+00],\n",
       "       [-1.59159112e+00, -6.19832203e+00],\n",
       "       [-6.32057127e+00, -6.85587283e+00],\n",
       "       [-6.66120028e+00,  1.06235411e+01],\n",
       "       [ 1.59929254e+01,  2.69206973e+00],\n",
       "       [ 1.42669076e+01,  3.10204955e+00],\n",
       "       [ 1.22275839e+01,  1.23839016e+00],\n",
       "       [-3.89405643e+00, -6.03242865e+00],\n",
       "       [-1.10625215e+01,  6.52701555e+00],\n",
       "       [-6.11870286e+00,  8.69662741e+00],\n",
       "       [-3.09706052e+00, -5.71971482e+00],\n",
       "       [-5.73588219e+00,  8.59219777e+00],\n",
       "       [ 1.39126228e+01,  4.75714122e-01],\n",
       "       [-5.74303399e+00, -4.80519005e+00],\n",
       "       [ 1.58602474e+01,  2.94919014e+00],\n",
       "       [-2.23580172e+00, -7.34249642e+00],\n",
       "       [ 1.21833927e+01, -4.21942193e-01],\n",
       "       [-6.52269119e+00,  6.02376014e+00],\n",
       "       [-4.58522433e+00, -3.20670794e+00],\n",
       "       [-9.12639854e+00, -6.38630928e+00],\n",
       "       [-3.40984836e+00, -3.33939945e+00],\n",
       "       [-7.04593284e+00, -5.05219991e+00],\n",
       "       [-4.31510691e+00,  9.05661795e+00],\n",
       "       [-5.54729644e+00,  1.04392189e+01],\n",
       "       [-6.15880600e+00,  9.96635386e+00],\n",
       "       [-3.62808018e-02, -3.88495685e+00],\n",
       "       [-7.94195138e+00,  1.18949006e+01],\n",
       "       [-7.33386240e-01, -6.67322361e+00],\n",
       "       [-4.02469273e+00, -4.18710722e+00],\n",
       "       [-7.69299113e+00,  8.82615594e+00],\n",
       "       [-6.02840287e+00,  8.26846998e+00],\n",
       "       [-5.53226414e+00,  1.40450100e+01],\n",
       "       [ 1.53818214e+00, -8.68784986e+00],\n",
       "       [ 1.41846610e+01,  5.73005231e-01],\n",
       "       [ 8.61950131e+00,  2.02747126e+00],\n",
       "       [-1.62686345e+00, -1.18133964e+00],\n",
       "       [-5.13026293e+00, -5.35803231e+00],\n",
       "       [-5.36425028e-01, -7.84322404e+00],\n",
       "       [-7.47860704e+00, -9.98215775e-01],\n",
       "       [-1.63741523e+00, -3.92742240e+00],\n",
       "       [ 1.42739866e+01,  1.02934472e+00],\n",
       "       [ 1.19350752e+01,  3.24110505e+00],\n",
       "       [-1.35877645e+00, -3.87899787e+00],\n",
       "       [ 4.68479379e-01, -5.11962855e+00],\n",
       "       [-2.89382722e-01, -8.13356866e+00],\n",
       "       [-1.42581451e+00, -1.07830799e+01],\n",
       "       [ 1.24894493e+00, -4.79001806e+00],\n",
       "       [ 1.35659085e+01,  3.05731372e+00],\n",
       "       [-2.17543799e+00, -4.21604196e+00],\n",
       "       [-4.82429143e+00, -1.03917912e+01],\n",
       "       [-1.77318772e+00, -5.63563614e+00],\n",
       "       [-4.08071340e+00, -6.75120499e+00],\n",
       "       [-7.18326216e+00,  9.61773583e+00],\n",
       "       [-4.98709807e-03, -8.92804240e+00],\n",
       "       [-6.88326720e+00,  1.19775768e+01],\n",
       "       [ 1.42950353e+01, -1.43163012e-01],\n",
       "       [ 1.02808272e+01,  1.22413756e+00],\n",
       "       [-5.84784584e+00, -1.77922492e+00],\n",
       "       [-1.03151233e+00, -8.33774427e+00],\n",
       "       [ 1.44355410e+01, -5.81851520e-01],\n",
       "       [-7.32092336e+00, -8.39553501e+00],\n",
       "       [-6.88874751e+00,  9.44676738e+00],\n",
       "       [ 1.14167262e+01,  2.83381021e+00],\n",
       "       [-5.64773992e-01, -5.28895594e+00],\n",
       "       [-7.45772248e+00,  8.76153195e+00],\n",
       "       [ 1.39227727e+01, -6.35605902e-01],\n",
       "       [-1.23012156e+00, -2.27010848e+00],\n",
       "       [-3.55386215e+00, -5.09344787e+00],\n",
       "       [ 1.53307642e+00, -8.16755752e+00],\n",
       "       [-3.41616047e+00,  6.81327465e+00],\n",
       "       [-5.69522755e+00, -5.03696564e+00],\n",
       "       [ 1.33125866e+01,  1.97133947e+00],\n",
       "       [-1.26001455e+01,  1.17084668e+01],\n",
       "       [-2.65100706e+00, -8.87319318e+00],\n",
       "       [-6.69823349e+00,  9.33875954e+00],\n",
       "       [-8.92425887e+00,  1.16888511e+01],\n",
       "       [-2.54347483e+00, -5.70176146e+00],\n",
       "       [ 1.27805321e+01,  3.99294169e+00],\n",
       "       [-8.37623446e+00, -8.60008471e+00],\n",
       "       [-6.47072649e+00, -6.48818494e+00],\n",
       "       [ 2.74378955e+00, -4.92373480e+00],\n",
       "       [-1.48184943e+00, -6.73410168e+00],\n",
       "       [ 3.71566626e-01, -5.47469278e+00],\n",
       "       [ 2.36464661e-01, -1.03333015e+01],\n",
       "       [ 1.37189040e+01,  2.40100958e+00],\n",
       "       [-4.47484099e+00, -2.72420750e+00],\n",
       "       [-2.00933539e+00, -7.14616412e+00],\n",
       "       [-3.41017632e+00,  8.41920917e+00],\n",
       "       [-3.56183288e+00, -9.92480149e+00],\n",
       "       [-4.81360071e+00, -5.12942883e+00],\n",
       "       [ 3.62853658e-01, -4.99493163e+00],\n",
       "       [-3.00609307e+00, -7.34605568e+00],\n",
       "       [-2.86625320e+00, -7.21098407e+00],\n",
       "       [-3.21882582e-01, -5.21306206e+00],\n",
       "       [-2.04021323e+00, -7.18170662e+00],\n",
       "       [ 1.18987700e+01,  3.86619962e-01],\n",
       "       [-5.69851480e-01, -8.75869138e+00],\n",
       "       [-4.35515069e+00, -5.16142690e+00],\n",
       "       [-4.82612726e+00, -6.33208229e+00],\n",
       "       [ 1.72971948e+00, -6.01168050e+00],\n",
       "       [-4.57420716e+00, -5.81989786e+00],\n",
       "       [ 1.32124224e+01,  4.85391355e+00],\n",
       "       [-2.24184921e+00, -4.60633098e+00],\n",
       "       [ 1.16080042e+01,  1.46259922e+00],\n",
       "       [ 1.43778800e+01,  7.62252660e-01],\n",
       "       [-5.31981532e+00, -5.26417443e+00],\n",
       "       [-3.97608580e+00,  9.49586939e+00],\n",
       "       [ 7.39440810e+00,  1.69769332e+00],\n",
       "       [-9.27979914e+00,  8.17184169e+00],\n",
       "       [-7.15068222e+00, -7.00995744e+00],\n",
       "       [-7.75261876e+00, -3.96550416e+00],\n",
       "       [-4.52416024e+00, -4.62131798e+00],\n",
       "       [ 1.48981399e+01,  6.52425625e-01],\n",
       "       [ 1.32615476e+01,  1.81371564e+00],\n",
       "       [ 1.35155414e+01,  1.44683419e+00],\n",
       "       [ 9.77898182e+00,  5.79101940e-01],\n",
       "       [-3.17418767e+00,  1.18106367e+01],\n",
       "       [-5.68786267e+00, -6.42181282e+00],\n",
       "       [-8.83938005e+00, -5.53143158e+00],\n",
       "       [ 1.35962677e+01,  5.19095121e+00],\n",
       "       [-4.93247876e+00,  7.61948369e+00],\n",
       "       [-7.23771453e+00,  1.00426460e+01],\n",
       "       [-5.27792905e+00, -4.57339168e+00],\n",
       "       [-5.92611314e+00,  1.15846380e+01],\n",
       "       [-8.33916818e+00, -6.58150813e+00],\n",
       "       [-2.47094114e+00, -6.09408083e+00],\n",
       "       [-6.76275222e+00,  1.07718635e+01],\n",
       "       [-3.81916047e+00,  1.02498619e+01],\n",
       "       [ 2.33983254e+00, -5.11761109e+00],\n",
       "       [ 1.51718687e+01,  4.93682116e-01],\n",
       "       [ 1.51523215e+01,  5.01983497e+00],\n",
       "       [-2.85454791e+00, -5.37878501e+00],\n",
       "       [ 5.21546200e-02, -5.80671621e+00],\n",
       "       [-6.48624146e+00, -7.14254928e+00],\n",
       "       [-4.84000502e+00,  8.55353397e+00],\n",
       "       [ 1.30211605e+01,  4.81871615e+00],\n",
       "       [ 1.58118527e+01,  7.14576602e-01],\n",
       "       [-6.75227572e+00, -5.55535634e+00],\n",
       "       [ 1.40815856e+01,  3.04736999e+00],\n",
       "       [-6.98171861e+00,  1.09919782e+01],\n",
       "       [-5.63279567e-01, -7.17185416e+00],\n",
       "       [-7.63722247e-01, -6.50474987e+00],\n",
       "       [-5.14794633e+00,  7.77354225e+00],\n",
       "       [-4.83373550e+00,  9.60530167e+00],\n",
       "       [ 1.46227785e+01,  8.95767943e-01],\n",
       "       [ 1.10517421e+01, -3.09591151e+00],\n",
       "       [-1.35170904e+00, -9.19527654e+00],\n",
       "       [ 1.15157567e+01,  4.34505768e+00],\n",
       "       [-7.15707291e+00, -3.74234256e+00],\n",
       "       [-3.85746647e+00, -4.65584276e+00],\n",
       "       [-1.03869681e+01, -5.56687701e+00],\n",
       "       [-1.10669626e+01, -4.57644860e+00],\n",
       "       [ 1.08722992e+01,  2.76452579e+00],\n",
       "       [-7.28832035e+00, -3.53163647e+00],\n",
       "       [-7.15714480e+00,  7.83479325e+00],\n",
       "       [ 7.00028597e-01, -7.00469822e+00],\n",
       "       [-6.07015054e-01, -5.13518815e+00],\n",
       "       [-6.32061175e+00,  6.90634839e+00],\n",
       "       [-5.57529665e+00,  8.42620177e+00],\n",
       "       [-2.43530683e+00, -1.35339639e+00],\n",
       "       [ 1.26475535e+01, -3.65628497e-01],\n",
       "       [ 1.22331135e+01,  8.42517792e-01],\n",
       "       [-3.65506153e+00, -7.71165824e+00],\n",
       "       [-6.57659218e+00, -3.06977975e+00],\n",
       "       [-6.99098045e+00,  9.05875031e+00],\n",
       "       [-2.03632393e+00, -5.48284491e+00],\n",
       "       [ 1.84221230e+00, -6.27859441e+00],\n",
       "       [ 9.42985015e+00,  1.29448665e-01],\n",
       "       [ 1.07938934e+01,  9.30854093e-01],\n",
       "       [ 9.32693132e-01, -7.78764583e+00],\n",
       "       [-4.96675476e+00,  8.88250784e+00],\n",
       "       [ 1.29174441e+01,  4.36991163e-01],\n",
       "       [-7.87596609e+00,  1.23763295e+01],\n",
       "       [-4.80631181e+00, -4.86879018e+00],\n",
       "       [-7.70674496e+00,  8.98514880e+00],\n",
       "       [-1.42278084e+00, -2.53734408e+00],\n",
       "       [-4.91676171e+00,  1.13145871e+01],\n",
       "       [-4.02326997e+00,  8.83606549e+00],\n",
       "       [-2.55195798e+00, -8.35789021e+00],\n",
       "       [-7.56774416e+00, -4.17658588e+00],\n",
       "       [-4.22586789e-01, -6.13397563e+00],\n",
       "       [-7.17144853e+00,  1.20458672e+01],\n",
       "       [-1.63673737e+00, -5.94509833e+00],\n",
       "       [-3.64808862e+00, -5.42005051e+00],\n",
       "       [ 1.22510494e+01,  3.13435808e+00],\n",
       "       [-5.34583781e+00, -4.41761962e+00],\n",
       "       [-5.25513656e+00,  8.53696948e+00],\n",
       "       [-7.28118951e+00, -7.14522240e+00],\n",
       "       [-5.87392440e+00,  9.08489781e+00],\n",
       "       [-3.07124979e+00,  1.04242502e+01],\n",
       "       [-2.38823974e+00,  9.12144695e+00],\n",
       "       [ 1.40727103e+01, -2.55497736e+00],\n",
       "       [-2.35856058e+00, -6.18418286e+00],\n",
       "       [ 4.27234302e-01, -7.87189955e+00],\n",
       "       [-5.67728283e+00,  7.25604378e+00],\n",
       "       [-7.25292479e-01, -6.92356179e+00],\n",
       "       [ 1.31375642e+01,  2.59244553e+00],\n",
       "       [-5.85168868e+00, -2.41142335e+00],\n",
       "       [ 2.25215287e+00, -4.87096139e+00],\n",
       "       [-8.03135750e+00,  6.40280336e+00],\n",
       "       [-6.19494528e+00, -5.66366060e+00],\n",
       "       [-7.46633014e+00, -3.47157690e+00],\n",
       "       [-8.40281444e+00,  6.41698144e+00],\n",
       "       [-2.13634840e+00, -6.50123473e+00],\n",
       "       [-3.15656057e+00, -6.50286558e+00],\n",
       "       [-6.16813190e+00, -4.99228860e+00],\n",
       "       [ 1.10626003e+01,  1.10699572e+00],\n",
       "       [-9.05364085e+00,  6.28967899e+00],\n",
       "       [ 1.42514219e+01,  5.39798738e-01],\n",
       "       [-7.31117212e+00,  1.03563163e+01],\n",
       "       [ 1.10906908e+00, -5.62591593e+00],\n",
       "       [-5.10073321e+00, -9.56058271e+00],\n",
       "       [-3.74909012e+00,  9.65696790e+00],\n",
       "       [-5.39795104e+00, -6.77748358e+00],\n",
       "       [-4.80580917e+00,  1.13873080e+01],\n",
       "       [ 1.12276361e+01, -3.82164495e-01],\n",
       "       [-3.41911879e+00, -4.37514650e+00],\n",
       "       [-7.64963218e+00,  1.05245475e+01],\n",
       "       [ 3.82438423e-01, -6.11326054e+00],\n",
       "       [ 1.29246607e+01, -2.00823903e+00],\n",
       "       [ 2.27743591e+00, -7.13573037e+00],\n",
       "       [ 1.12887124e+01,  4.82658252e+00],\n",
       "       [-3.71250003e+00,  1.26404838e+01],\n",
       "       [ 1.33682810e+01,  2.09989806e+00],\n",
       "       [ 1.41599477e+01,  2.68464400e-01],\n",
       "       [ 1.63555115e+01,  2.44902271e+00],\n",
       "       [ 9.65939083e-02, -7.13616332e+00],\n",
       "       [-2.31906515e+00, -7.90618213e+00],\n",
       "       [-3.37063388e+00,  9.29896316e+00],\n",
       "       [ 1.36842725e+01,  3.08242719e+00],\n",
       "       [-5.43722337e+00, -4.09116984e+00],\n",
       "       [-6.13995302e+00,  1.00152396e+01],\n",
       "       [ 1.53383039e+00, -6.94944754e+00],\n",
       "       [-2.11347541e+00,  7.93257292e+00],\n",
       "       [ 1.36014962e+01,  6.73680261e-01],\n",
       "       [-5.81197885e+00,  1.13662974e+01],\n",
       "       [-5.93711346e+00, -2.88808511e+00],\n",
       "       [ 1.44505005e+01,  2.72739507e+00],\n",
       "       [ 1.43333104e+01,  6.73718298e-01],\n",
       "       [-5.26644254e+00,  7.51118707e+00],\n",
       "       [-6.02344810e+00, -6.57966585e+00],\n",
       "       [ 9.58641511e+00,  4.77718280e-01],\n",
       "       [-7.08285090e+00, -4.06608722e+00],\n",
       "       [-8.39338957e+00, -6.56210259e+00],\n",
       "       [ 1.03563132e+01,  1.04449759e+00],\n",
       "       [-4.94156449e+00,  5.93056351e+00],\n",
       "       [-4.27059061e+00,  1.00613585e+01],\n",
       "       [-6.20340257e+00, -3.26555936e+00],\n",
       "       [ 1.30080676e+01,  2.55968257e+00],\n",
       "       [-7.54164096e+00,  5.61577170e+00],\n",
       "       [ 1.52477812e+01, -2.49230770e+00],\n",
       "       [-8.10672619e+00, -4.89570280e+00],\n",
       "       [-2.85887733e+00, -8.24715849e+00],\n",
       "       [-2.18381430e+00, -2.25551428e+00],\n",
       "       [-6.84510303e+00, -5.44850444e+00],\n",
       "       [-2.03448122e+00, -7.03790252e+00],\n",
       "       [ 1.36760944e+01,  1.74611457e+00],\n",
       "       [-7.29249650e+00,  9.45972380e+00],\n",
       "       [-2.69408123e+00, -4.77639116e+00],\n",
       "       [-8.23490739e+00,  7.74785455e+00],\n",
       "       [-2.18585670e+00, -2.84428584e+00],\n",
       "       [-1.51869765e+00, -8.04029982e+00],\n",
       "       [-7.76523216e+00,  1.16402620e+01],\n",
       "       [-6.46545372e+00, -5.04495475e+00],\n",
       "       [ 1.26457236e+01,  1.90611853e-01],\n",
       "       [ 1.36062698e+01,  2.76807672e+00],\n",
       "       [-1.31706185e+00, -4.50541542e+00],\n",
       "       [-1.87110117e+00, -5.56223572e+00],\n",
       "       [-5.19613722e+00, -3.07870373e+00],\n",
       "       [-5.72658068e+00,  8.92136364e+00],\n",
       "       [-6.64537414e-01, -4.68612358e+00],\n",
       "       [-2.26372514e+00, -5.76498005e+00],\n",
       "       [ 7.98868882e-01, -5.06763161e+00],\n",
       "       [-8.64085475e+00,  7.25107645e+00],\n",
       "       [-2.85809901e+00,  1.23519307e+01],\n",
       "       [-6.58346764e+00, -4.19105922e+00],\n",
       "       [-3.48395262e+00, -6.66149260e+00],\n",
       "       [-2.52061408e+00, -6.70859771e+00],\n",
       "       [-5.31317351e+00, -1.90375149e+00],\n",
       "       [-7.36275935e+00, -4.85845004e+00],\n",
       "       [-6.16499560e+00, -5.77819106e+00],\n",
       "       [-4.59018442e+00,  6.03327131e+00],\n",
       "       [-3.26555353e+00, -6.31801837e+00],\n",
       "       [-7.94867388e+00, -3.60469347e+00],\n",
       "       [-4.32666908e+00, -3.67350376e+00],\n",
       "       [ 1.39770156e+01,  2.89181210e+00],\n",
       "       [-1.07684743e+00, -5.74912037e+00],\n",
       "       [ 1.57189650e+01,  1.27889421e-01],\n",
       "       [-6.53226591e+00,  1.16714354e+01],\n",
       "       [-5.27336450e+00, -5.12583206e+00],\n",
       "       [-7.97646347e+00, -4.88130303e+00],\n",
       "       [-5.06399233e+00, -5.42850093e+00],\n",
       "       [-1.13122635e+00, -7.37338813e+00],\n",
       "       [ 1.09060464e+01,  4.24001632e-01],\n",
       "       [-6.36922899e+00,  1.06503330e+01],\n",
       "       [-5.05622957e+00, -4.27491405e+00],\n",
       "       [-4.94093988e+00, -6.02352257e+00],\n",
       "       [-8.94022720e-01, -5.12343079e+00],\n",
       "       [-1.22946819e+00, -5.82290748e+00],\n",
       "       [ 3.87554064e-01, -4.32478263e+00],\n",
       "       [ 1.27357483e+01,  8.56090323e-01],\n",
       "       [-4.04792490e+00, -8.22531805e+00],\n",
       "       [-6.27669662e+00,  6.38862182e+00],\n",
       "       [-4.57054763e+00,  1.22668766e+01],\n",
       "       [ 1.51482263e+01,  1.55920460e+00],\n",
       "       [-7.68208261e+00, -4.87887049e+00],\n",
       "       [-4.17309014e+00,  1.02921229e+01],\n",
       "       [ 1.15730253e+01,  8.84857249e-01],\n",
       "       [-2.83165146e+00, -3.84384912e+00],\n",
       "       [ 1.26192238e+01,  1.62503174e+00],\n",
       "       [ 1.38056555e+01,  3.52902581e+00],\n",
       "       [-6.94662609e+00,  7.39751054e+00],\n",
       "       [-2.83369807e+00, -7.22741089e+00],\n",
       "       [-1.23238161e+00, -5.90926792e+00],\n",
       "       [-1.43364191e+00, -4.73917528e+00],\n",
       "       [ 1.33500534e+01,  2.02785026e+00],\n",
       "       [-3.51242796e+00, -1.29469371e-01],\n",
       "       [ 1.41646608e+01, -1.93713856e+00],\n",
       "       [-1.31846884e+00,  9.69162585e+00],\n",
       "       [-8.18655975e+00, -2.24164171e+00],\n",
       "       [-6.06989760e+00,  1.10538731e+01],\n",
       "       [-8.13278829e+00,  8.01738845e+00],\n",
       "       [-5.80825541e+00,  1.09008427e+01],\n",
       "       [ 1.06583968e+01,  2.27828962e+00],\n",
       "       [-1.78378852e+00, -5.32391704e+00],\n",
       "       [ 1.35251721e+01,  1.25554774e+00],\n",
       "       [ 1.53264661e+01,  2.26765760e+00],\n",
       "       [ 1.27658099e+01,  2.52179903e+00],\n",
       "       [-7.02101305e+00,  6.94135431e+00],\n",
       "       [-6.57762336e+00,  9.68132709e+00],\n",
       "       [-6.57001511e+00,  1.31763244e+01],\n",
       "       [-6.52927798e+00,  1.03829384e+01],\n",
       "       [-5.35052827e+00,  8.86122745e+00],\n",
       "       [-8.80093604e+00,  7.78550722e+00],\n",
       "       [ 1.08279997e+01,  1.87018940e+00],\n",
       "       [-9.36004771e+00, -4.96188286e+00],\n",
       "       [-7.02187871e-01, -6.78825683e+00],\n",
       "       [ 1.21217395e+01, -1.77177808e+00],\n",
       "       [ 1.38401445e+01,  1.24128561e+00],\n",
       "       [-4.34317404e+00, -8.35412973e+00],\n",
       "       [-7.22672126e+00,  6.09574228e+00],\n",
       "       [-3.83594211e+00, -6.61700495e+00],\n",
       "       [-2.60652009e+00,  9.35810890e+00],\n",
       "       [-4.56476334e+00,  1.11334310e+01],\n",
       "       [-7.49306241e+00, -5.57826701e+00],\n",
       "       [ 1.31236492e+01,  3.62399828e+00]])"
      ]
     },
     "execution_count": 32,
     "metadata": {},
     "output_type": "execute_result"
    }
   ],
   "source": [
    "X_reduced"
   ]
  },
  {
   "cell_type": "code",
   "execution_count": 33,
   "metadata": {},
   "outputs": [
    {
     "data": {
      "text/plain": [
       "(400, 2)"
      ]
     },
     "execution_count": 33,
     "metadata": {},
     "output_type": "execute_result"
    }
   ],
   "source": [
    "X_reduced.shape"
   ]
  },
  {
   "cell_type": "markdown",
   "metadata": {},
   "source": [
    "See how two dim X on the plane"
   ]
  },
  {
   "cell_type": "code",
   "execution_count": 34,
   "metadata": {},
   "outputs": [
    {
     "data": {
      "text/plain": [
       "<matplotlib.collections.PathCollection at 0x1b03c0316d0>"
      ]
     },
     "execution_count": 34,
     "metadata": {},
     "output_type": "execute_result"
    },
    {
     "data": {
      "image/png": "[encoded data removed]",
      "text/plain": [
       "<Figure size 432x288 with 1 Axes>"
      ]
     },
     "metadata": {
      "needs_background": "light"
     },
     "output_type": "display_data"
    }
   ],
   "source": [
    "plt.scatter(X_reduced[:,0],X_reduced[:,1])"
   ]
  },
  {
   "cell_type": "markdown",
   "metadata": {},
   "source": [
    "Randomly select two points as the initial centroids"
   ]
  },
  {
   "cell_type": "code",
   "execution_count": 35,
   "metadata": {},
   "outputs": [],
   "source": [
    "k = 2\n",
    "C = []\n",
    "for _ in range(k):\n",
    "  i = np.random.randint(len(X_reduced))\n",
    "  C.append(X_reduced[i,:])"
   ]
  },
  {
   "cell_type": "markdown",
   "metadata": {},
   "source": [
    "See the position of two randomly selected centroids"
   ]
  },
  {
   "cell_type": "code",
   "execution_count": 36,
   "metadata": {},
   "outputs": [
    {
     "data": {
      "text/plain": [
       "[array([-0.28938272, -8.13356866]), array([-0.72529248, -6.92356179])]"
      ]
     },
     "execution_count": 36,
     "metadata": {},
     "output_type": "execute_result"
    }
   ],
   "source": [
    "C"
   ]
  },
  {
   "cell_type": "markdown",
   "metadata": {},
   "source": [
    "Define a function of euclidean distance"
   ]
  },
  {
   "cell_type": "code",
   "execution_count": 37,
   "metadata": {},
   "outputs": [],
   "source": [
    "def distance(v,w):\n",
    "  return np.sqrt((v-w)@(v-w))"
   ]
  },
  {
   "cell_type": "markdown",
   "metadata": {},
   "source": [
    "see the euclidean distance between the first centroid and the first X"
   ]
  },
  {
   "cell_type": "code",
   "execution_count": 38,
   "metadata": {},
   "outputs": [
    {
     "data": {
      "text/plain": [
       "20.29339928690142"
      ]
     },
     "execution_count": 38,
     "metadata": {},
     "output_type": "execute_result"
    }
   ],
   "source": [
    "distance(C[0],X_reduced[0])"
   ]
  },
  {
   "cell_type": "markdown",
   "metadata": {},
   "source": [
    "Define a function to calculate the distance between each points to the centroids and every points get the same number of distance with the same number of centroid, and for each points we will assign it to the nearest centroid, so for each point we need to find the samllest distance from the point to the centroid among other distance."
   ]
  },
  {
   "cell_type": "code",
   "execution_count": 39,
   "metadata": {},
   "outputs": [],
   "source": [
    "def assignment(x,Centroids):\n",
    "  distances = np.array([distance(x,centroid) for centroid in Centroids])\n",
    "  return np.argmin(distances)"
   ]
  },
  {
   "cell_type": "markdown",
   "metadata": {},
   "source": [
    "See what cluster will the first point in X get assigned"
   ]
  },
  {
   "cell_type": "code",
   "execution_count": 40,
   "metadata": {},
   "outputs": [
    {
     "data": {
      "text/plain": [
       "1"
      ]
     },
     "execution_count": 40,
     "metadata": {},
     "output_type": "execute_result"
    }
   ],
   "source": [
    "assignment(X_reduced[0],C)"
   ]
  },
  {
   "cell_type": "code",
   "execution_count": 41,
   "metadata": {},
   "outputs": [
    {
     "data": {
      "image/png": "[encoded data removed]",
      "text/plain": [
       "<Figure size 432x288 with 1 Axes>"
      ]
     },
     "metadata": {
      "needs_background": "light"
     },
     "output_type": "display_data"
    }
   ],
   "source": [
    "for x in X_reduced:\n",
    "  if assignment(x,C) == 0:\n",
    "    plt.scatter(x[0],x[1],color = 'blue')\n",
    "  else:\n",
    "    plt.scatter(x[0],x[1],color = 'red')\n",
    "plt.show()"
   ]
  },
  {
   "cell_type": "markdown",
   "metadata": {},
   "source": [
    "calculate distance for every points"
   ]
  },
  {
   "cell_type": "code",
   "execution_count": 42,
   "metadata": {},
   "outputs": [],
   "source": [
    "def make_classes(data,Centroids):\n",
    "  A = dict()\n",
    "  for i in range(len(Centroids)):\n",
    "    A[i] = []\n",
    "\n",
    "  for x in data:\n",
    "     A[assignment(x,Centroids)].append(x)\n",
    "  return A"
   ]
  },
  {
   "cell_type": "code",
   "execution_count": 43,
   "metadata": {},
   "outputs": [
    {
     "data": {
      "text/plain": [
       "{0: [array([-3.46206485, -8.6292328 ]),\n",
       "  array([ 2.62332066, -8.08649495]),\n",
       "  array([-0.15862108, -8.42873537]),\n",
       "  array([-2.14640834, -8.45890252]),\n",
       "  array([ 1.53818214, -8.68784986]),\n",
       "  array([-0.53642503, -7.84322404]),\n",
       "  array([-0.28938272, -8.13356866]),\n",
       "  array([ -1.42581451, -10.78307995]),\n",
       "  array([ -4.82429143, -10.39179117]),\n",
       "  array([-4.98709807e-03, -8.92804240e+00]),\n",
       "  array([-1.03151233, -8.33774427]),\n",
       "  array([ 1.53307642, -8.16755752]),\n",
       "  array([-2.65100706, -8.87319318]),\n",
       "  array([  0.23646466, -10.33330153]),\n",
       "  array([-3.56183288, -9.92480149]),\n",
       "  array([-0.56985148, -8.75869138]),\n",
       "  array([-1.35170904, -9.19527654]),\n",
       "  array([ 0.93269313, -7.78764583]),\n",
       "  array([-2.55195798, -8.35789021]),\n",
       "  array([14.07271035, -2.55497736]),\n",
       "  array([ 0.4272343 , -7.87189955]),\n",
       "  array([-5.10073321, -9.56058271]),\n",
       "  array([ 2.27743591, -7.13573037]),\n",
       "  array([ 1.53383039, -6.94944754]),\n",
       "  array([15.24778124, -2.4923077 ]),\n",
       "  array([-1.51869765, -8.04029982])],\n",
       " 1: [array([15.70063881,  4.36208122]),\n",
       "  array([10.43831179,  1.95509807]),\n",
       "  array([-8.33927946, -5.05293201]),\n",
       "  array([-4.34600547, 10.15710268]),\n",
       "  array([12.64937823, -1.76837092]),\n",
       "  array([14.85012318,  2.46934615]),\n",
       "  array([-7.55541052, -1.44745828]),\n",
       "  array([-5.56416569, -0.05683784]),\n",
       "  array([-6.78598268, -7.57776954]),\n",
       "  array([-2.72598024, -2.40333783]),\n",
       "  array([-6.4763712, 11.0341264]),\n",
       "  array([-6.84704473, -1.28082637]),\n",
       "  array([-4.31541328, -4.67093507]),\n",
       "  array([9.69676205, 0.45027739]),\n",
       "  array([-7.61251899, 11.18079595]),\n",
       "  array([-0.23372969, -3.51499475]),\n",
       "  array([-6.7314804, 10.253284 ]),\n",
       "  array([-1.21144987, -5.62645575]),\n",
       "  array([10.61051121,  2.08467006]),\n",
       "  array([-7.86496436,  8.86785339]),\n",
       "  array([-5.51699197, -5.53858805]),\n",
       "  array([13.11734383,  0.28884179]),\n",
       "  array([-7.059139  ,  9.15175639]),\n",
       "  array([-2.17887964, -5.35705371]),\n",
       "  array([-6.71320254, -5.08255239]),\n",
       "  array([-2.21129564, -5.18020896]),\n",
       "  array([-1.709856  , -6.58530841]),\n",
       "  array([17.67854992,  1.45719696]),\n",
       "  array([-6.10319959, -2.22992356]),\n",
       "  array([14.64688594,  1.71086112]),\n",
       "  array([-1.7073556 , -6.88150229]),\n",
       "  array([-3.91594318, -4.02497026]),\n",
       "  array([14.24357568,  9.56481769]),\n",
       "  array([15.16359655,  2.08601201]),\n",
       "  array([14.97369672,  2.92117429]),\n",
       "  array([-7.20312034, 12.74835578]),\n",
       "  array([12.13686333,  4.25221111]),\n",
       "  array([-1.64722057, -1.4643283 ]),\n",
       "  array([-4.40514401, -6.68926725]),\n",
       "  array([-8.29195023, 13.07071428]),\n",
       "  array([16.57186294,  4.01219897]),\n",
       "  array([-7.8007702, -2.9426377]),\n",
       "  array([-6.75062394, -4.43789373]),\n",
       "  array([-4.21159771, -8.51974235]),\n",
       "  array([12.45589773,  2.87044854]),\n",
       "  array([-6.71733533,  8.24201338]),\n",
       "  array([-8.65056113, -7.23700854]),\n",
       "  array([-6.08962858,  9.23879795]),\n",
       "  array([-4.73682278, -1.47341916]),\n",
       "  array([13.6965609 ,  2.32649501]),\n",
       "  array([13.1997227 ,  1.71858308]),\n",
       "  array([-1.59159112, -6.19832203]),\n",
       "  array([-6.32057127, -6.85587283]),\n",
       "  array([-6.66120028, 10.62354113]),\n",
       "  array([15.99292539,  2.69206973]),\n",
       "  array([14.26690755,  3.10204955]),\n",
       "  array([12.22758392,  1.23839016]),\n",
       "  array([-3.89405643, -6.03242865]),\n",
       "  array([-11.06252148,   6.52701555]),\n",
       "  array([-6.11870286,  8.69662741]),\n",
       "  array([-3.09706052, -5.71971482]),\n",
       "  array([-5.73588219,  8.59219777]),\n",
       "  array([13.91262283,  0.47571412]),\n",
       "  array([-5.74303399, -4.80519005]),\n",
       "  array([15.86024745,  2.94919014]),\n",
       "  array([-2.23580172, -7.34249642]),\n",
       "  array([12.18339271, -0.42194219]),\n",
       "  array([-6.52269119,  6.02376014]),\n",
       "  array([-4.58522433, -3.20670794]),\n",
       "  array([-9.12639854, -6.38630928]),\n",
       "  array([-3.40984836, -3.33939945]),\n",
       "  array([-7.04593284, -5.05219991]),\n",
       "  array([-4.31510691,  9.05661795]),\n",
       "  array([-5.54729644, 10.43921889]),\n",
       "  array([-6.158806  ,  9.96635386]),\n",
       "  array([-0.0362808 , -3.88495685]),\n",
       "  array([-7.94195138, 11.89490057]),\n",
       "  array([-0.73338624, -6.67322361]),\n",
       "  array([-4.02469273, -4.18710722]),\n",
       "  array([-7.69299113,  8.82615594]),\n",
       "  array([-6.02840287,  8.26846998]),\n",
       "  array([-5.53226414, 14.04500998]),\n",
       "  array([14.184661  ,  0.57300523]),\n",
       "  array([8.61950131, 2.02747126]),\n",
       "  array([-1.62686345, -1.18133964]),\n",
       "  array([-5.13026293, -5.35803231]),\n",
       "  array([-7.47860704, -0.99821578]),\n",
       "  array([-1.63741523, -3.9274224 ]),\n",
       "  array([14.27398656,  1.02934472]),\n",
       "  array([11.93507523,  3.24110505]),\n",
       "  array([-1.35877645, -3.87899787]),\n",
       "  array([ 0.46847938, -5.11962855]),\n",
       "  array([ 1.24894493, -4.79001806]),\n",
       "  array([13.56590849,  3.05731372]),\n",
       "  array([-2.17543799, -4.21604196]),\n",
       "  array([-1.77318772, -5.63563614]),\n",
       "  array([-4.0807134 , -6.75120499]),\n",
       "  array([-7.18326216,  9.61773583]),\n",
       "  array([-6.8832672 , 11.97757676]),\n",
       "  array([14.29503526, -0.14316301]),\n",
       "  array([10.28082716,  1.22413756]),\n",
       "  array([-5.84784584, -1.77922492]),\n",
       "  array([14.43554101, -0.58185152]),\n",
       "  array([-7.32092336, -8.39553501]),\n",
       "  array([-6.88874751,  9.44676738]),\n",
       "  array([11.41672621,  2.83381021]),\n",
       "  array([-0.56477399, -5.28895594]),\n",
       "  array([-7.45772248,  8.76153195]),\n",
       "  array([13.92277271, -0.6356059 ]),\n",
       "  array([-1.23012156, -2.27010848]),\n",
       "  array([-3.55386215, -5.09344787]),\n",
       "  array([-3.41616047,  6.81327465]),\n",
       "  array([-5.69522755, -5.03696564]),\n",
       "  array([13.3125866 ,  1.97133947]),\n",
       "  array([-12.60014555,  11.70846676]),\n",
       "  array([-6.69823349,  9.33875954]),\n",
       "  array([-8.92425887, 11.68885114]),\n",
       "  array([-2.54347483, -5.70176146]),\n",
       "  array([12.78053211,  3.99294169]),\n",
       "  array([-8.37623446, -8.60008471]),\n",
       "  array([-6.47072649, -6.48818494]),\n",
       "  array([ 2.74378955, -4.9237348 ]),\n",
       "  array([-1.48184943, -6.73410168]),\n",
       "  array([ 0.37156663, -5.47469278]),\n",
       "  array([13.71890404,  2.40100958]),\n",
       "  array([-4.47484099, -2.7242075 ]),\n",
       "  array([-2.00933539, -7.14616412]),\n",
       "  array([-3.41017632,  8.41920917]),\n",
       "  array([-4.81360071, -5.12942883]),\n",
       "  array([ 0.36285366, -4.99493163]),\n",
       "  array([-3.00609307, -7.34605568]),\n",
       "  array([-2.8662532 , -7.21098407]),\n",
       "  array([-0.32188258, -5.21306206]),\n",
       "  array([-2.04021323, -7.18170662]),\n",
       "  array([11.89876999,  0.38661996]),\n",
       "  array([-4.35515069, -5.1614269 ]),\n",
       "  array([-4.82612726, -6.33208229]),\n",
       "  array([ 1.72971948, -6.0116805 ]),\n",
       "  array([-4.57420716, -5.81989786]),\n",
       "  array([13.21242242,  4.85391355]),\n",
       "  array([-2.24184921, -4.60633098]),\n",
       "  array([11.6080042 ,  1.46259922]),\n",
       "  array([14.37788003,  0.76225266]),\n",
       "  array([-5.31981532, -5.26417443]),\n",
       "  array([-3.9760858 ,  9.49586939]),\n",
       "  array([7.3944081 , 1.69769332]),\n",
       "  array([-9.27979914,  8.17184169]),\n",
       "  array([-7.15068222, -7.00995744]),\n",
       "  array([-7.75261876, -3.96550416]),\n",
       "  array([-4.52416024, -4.62131798]),\n",
       "  array([14.89813989,  0.65242562]),\n",
       "  array([13.26154756,  1.81371564]),\n",
       "  array([13.51554141,  1.44683419]),\n",
       "  array([9.77898182, 0.57910194]),\n",
       "  array([-3.17418767, 11.81063668]),\n",
       "  array([-5.68786267, -6.42181282]),\n",
       "  array([-8.83938005, -5.53143158]),\n",
       "  array([13.59626771,  5.19095121]),\n",
       "  array([-4.93247876,  7.61948369]),\n",
       "  array([-7.23771453, 10.04264595]),\n",
       "  array([-5.27792905, -4.57339168]),\n",
       "  array([-5.92611314, 11.58463804]),\n",
       "  array([-8.33916818, -6.58150813]),\n",
       "  array([-2.47094114, -6.09408083]),\n",
       "  array([-6.76275222, 10.77186349]),\n",
       "  array([-3.81916047, 10.24986189]),\n",
       "  array([ 2.33983254, -5.11761109]),\n",
       "  array([15.17186867,  0.49368212]),\n",
       "  array([15.1523215 ,  5.01983497]),\n",
       "  array([-2.85454791, -5.37878501]),\n",
       "  array([ 0.05215462, -5.80671621]),\n",
       "  array([-6.48624146, -7.14254928]),\n",
       "  array([-4.84000502,  8.55353397]),\n",
       "  array([13.02116048,  4.81871615]),\n",
       "  array([15.81185274,  0.7145766 ]),\n",
       "  array([-6.75227572, -5.55535634]),\n",
       "  array([14.08158557,  3.04736999]),\n",
       "  array([-6.98171861, 10.99197821]),\n",
       "  array([-0.56327957, -7.17185416]),\n",
       "  array([-0.76372225, -6.50474987]),\n",
       "  array([-5.14794633,  7.77354225]),\n",
       "  array([-4.8337355 ,  9.60530167]),\n",
       "  array([14.62277847,  0.89576794]),\n",
       "  array([11.05174207, -3.09591151]),\n",
       "  array([11.5157567 ,  4.34505768]),\n",
       "  array([-7.15707291, -3.74234256]),\n",
       "  array([-3.85746647, -4.65584276]),\n",
       "  array([-10.38696806,  -5.56687701]),\n",
       "  array([-11.06696261,  -4.5764486 ]),\n",
       "  array([10.87229922,  2.76452579]),\n",
       "  array([-7.28832035, -3.53163647]),\n",
       "  array([-7.1571448 ,  7.83479325]),\n",
       "  array([ 0.7000286 , -7.00469822]),\n",
       "  array([-0.60701505, -5.13518815]),\n",
       "  array([-6.32061175,  6.90634839]),\n",
       "  array([-5.57529665,  8.42620177]),\n",
       "  array([-2.43530683, -1.35339639]),\n",
       "  array([12.64755349, -0.3656285 ]),\n",
       "  array([12.2331135 ,  0.84251779]),\n",
       "  array([-3.65506153, -7.71165824]),\n",
       "  array([-6.57659218, -3.06977975]),\n",
       "  array([-6.99098045,  9.05875031]),\n",
       "  array([-2.03632393, -5.48284491]),\n",
       "  array([ 1.8422123 , -6.27859441]),\n",
       "  array([9.42985015, 0.12944867]),\n",
       "  array([10.79389337,  0.93085409]),\n",
       "  array([-4.96675476,  8.88250784]),\n",
       "  array([12.91744407,  0.43699116]),\n",
       "  array([-7.87596609, 12.37632946]),\n",
       "  array([-4.80631181, -4.86879018]),\n",
       "  array([-7.70674496,  8.9851488 ]),\n",
       "  array([-1.42278084, -2.53734408]),\n",
       "  array([-4.91676171, 11.31458713]),\n",
       "  array([-4.02326997,  8.83606549]),\n",
       "  array([-7.56774416, -4.17658588]),\n",
       "  array([-0.42258679, -6.13397563]),\n",
       "  array([-7.17144853, 12.04586723]),\n",
       "  array([-1.63673737, -5.94509833]),\n",
       "  array([-3.64808862, -5.42005051]),\n",
       "  array([12.25104938,  3.13435808]),\n",
       "  array([-5.34583781, -4.41761962]),\n",
       "  array([-5.25513656,  8.53696948]),\n",
       "  array([-7.28118951, -7.1452224 ]),\n",
       "  array([-5.8739244 ,  9.08489781]),\n",
       "  array([-3.07124979, 10.4242502 ]),\n",
       "  array([-2.38823974,  9.12144695]),\n",
       "  array([-2.35856058, -6.18418286]),\n",
       "  array([-5.67728283,  7.25604378]),\n",
       "  array([-0.72529248, -6.92356179]),\n",
       "  array([13.13756417,  2.59244553]),\n",
       "  array([-5.85168868, -2.41142335]),\n",
       "  array([ 2.25215287, -4.87096139]),\n",
       "  array([-8.0313575 ,  6.40280336]),\n",
       "  array([-6.19494528, -5.6636606 ]),\n",
       "  array([-7.46633014, -3.4715769 ]),\n",
       "  array([-8.40281444,  6.41698144]),\n",
       "  array([-2.1363484 , -6.50123473]),\n",
       "  array([-3.15656057, -6.50286558]),\n",
       "  array([-6.1681319, -4.9922886]),\n",
       "  array([11.06260026,  1.10699572]),\n",
       "  array([-9.05364085,  6.28967899]),\n",
       "  array([14.25142195,  0.53979874]),\n",
       "  array([-7.31117212, 10.35631631]),\n",
       "  array([ 1.10906908, -5.62591593]),\n",
       "  array([-3.74909012,  9.6569679 ]),\n",
       "  array([-5.39795104, -6.77748358]),\n",
       "  array([-4.80580917, 11.38730801]),\n",
       "  array([11.2276361 , -0.38216449]),\n",
       "  array([-3.41911879, -4.3751465 ]),\n",
       "  array([-7.64963218, 10.52454755]),\n",
       "  array([ 0.38243842, -6.11326054]),\n",
       "  array([12.92466075, -2.00823903]),\n",
       "  array([11.28871237,  4.82658252]),\n",
       "  array([-3.71250003, 12.64048376]),\n",
       "  array([13.368281  ,  2.09989806]),\n",
       "  array([14.15994772,  0.2684644 ]),\n",
       "  array([16.35551152,  2.44902271]),\n",
       "  array([ 0.09659391, -7.13616332]),\n",
       "  array([-2.31906515, -7.90618213]),\n",
       "  array([-3.37063388,  9.29896316]),\n",
       "  array([13.68427255,  3.08242719]),\n",
       "  array([-5.43722337, -4.09116984]),\n",
       "  array([-6.13995302, 10.01523957]),\n",
       "  array([-2.11347541,  7.93257292]),\n",
       "  array([13.6014962 ,  0.67368026]),\n",
       "  array([-5.81197885, 11.36629737]),\n",
       "  array([-5.93711346, -2.88808511]),\n",
       "  array([14.45050053,  2.72739507]),\n",
       "  array([14.33331039,  0.6737183 ]),\n",
       "  array([-5.26644254,  7.51118707]),\n",
       "  array([-6.0234481 , -6.57966585]),\n",
       "  array([9.58641511, 0.47771828]),\n",
       "  array([-7.0828509 , -4.06608722]),\n",
       "  array([-8.39338957, -6.56210259]),\n",
       "  array([10.35631316,  1.04449759]),\n",
       "  array([-4.94156449,  5.93056351]),\n",
       "  array([-4.27059061, 10.06135852]),\n",
       "  array([-6.20340257, -3.26555936]),\n",
       "  array([13.00806762,  2.55968257]),\n",
       "  array([-7.54164096,  5.6157717 ]),\n",
       "  array([-8.10672619, -4.8957028 ]),\n",
       "  array([-2.85887733, -8.24715849]),\n",
       "  array([-2.1838143 , -2.25551428]),\n",
       "  array([-6.84510303, -5.44850444]),\n",
       "  array([-2.03448122, -7.03790252]),\n",
       "  array([13.6760944 ,  1.74611457]),\n",
       "  array([-7.2924965,  9.4597238]),\n",
       "  array([-2.69408123, -4.77639116]),\n",
       "  array([-8.23490739,  7.74785455]),\n",
       "  array([-2.1858567 , -2.84428584]),\n",
       "  array([-7.76523216, 11.64026202]),\n",
       "  array([-6.46545372, -5.04495475]),\n",
       "  array([12.64572362,  0.19061185]),\n",
       "  array([13.60626981,  2.76807672]),\n",
       "  array([-1.31706185, -4.50541542]),\n",
       "  array([-1.87110117, -5.56223572]),\n",
       "  array([-5.19613722, -3.07870373]),\n",
       "  array([-5.72658068,  8.92136364]),\n",
       "  array([-0.66453741, -4.68612358]),\n",
       "  array([-2.26372514, -5.76498005]),\n",
       "  array([ 0.79886888, -5.06763161]),\n",
       "  array([-8.64085475,  7.25107645]),\n",
       "  array([-2.85809901, 12.35193067]),\n",
       "  array([-6.58346764, -4.19105922]),\n",
       "  array([-3.48395262, -6.6614926 ]),\n",
       "  array([-2.52061408, -6.70859771]),\n",
       "  array([-5.31317351, -1.90375149]),\n",
       "  array([-7.36275935, -4.85845004]),\n",
       "  array([-6.1649956 , -5.77819106]),\n",
       "  array([-4.59018442,  6.03327131]),\n",
       "  array([-3.26555353, -6.31801837]),\n",
       "  array([-7.94867388, -3.60469347]),\n",
       "  array([-4.32666908, -3.67350376]),\n",
       "  array([13.97701563,  2.8918121 ]),\n",
       "  array([-1.07684743, -5.74912037]),\n",
       "  array([15.71896497,  0.12788942]),\n",
       "  array([-6.53226591, 11.67143538]),\n",
       "  array([-5.2733645 , -5.12583206]),\n",
       "  array([-7.97646347, -4.88130303]),\n",
       "  array([-5.06399233, -5.42850093]),\n",
       "  array([-1.13122635, -7.37338813]),\n",
       "  array([10.90604641,  0.42400163]),\n",
       "  array([-6.36922899, 10.65033296]),\n",
       "  array([-5.05622957, -4.27491405]),\n",
       "  array([-4.94093988, -6.02352257]),\n",
       "  array([-0.89402272, -5.12343079]),\n",
       "  array([-1.22946819, -5.82290748]),\n",
       "  array([ 0.38755406, -4.32478263]),\n",
       "  array([12.7357483 ,  0.85609032]),\n",
       "  array([-4.0479249 , -8.22531805]),\n",
       "  array([-6.27669662,  6.38862182]),\n",
       "  array([-4.57054763, 12.26687663]),\n",
       "  array([15.14822632,  1.5592046 ]),\n",
       "  array([-7.68208261, -4.87887049]),\n",
       "  array([-4.17309014, 10.29212295]),\n",
       "  array([11.57302525,  0.88485725]),\n",
       "  array([-2.83165146, -3.84384912]),\n",
       "  array([12.61922379,  1.62503174]),\n",
       "  array([13.8056555 ,  3.52902581]),\n",
       "  array([-6.94662609,  7.39751054]),\n",
       "  array([-2.83369807, -7.22741089]),\n",
       "  array([-1.23238161, -5.90926792]),\n",
       "  array([-1.43364191, -4.73917528]),\n",
       "  array([13.35005341,  2.02785026]),\n",
       "  array([-3.51242796, -0.12946937]),\n",
       "  array([14.16466075, -1.93713856]),\n",
       "  array([-1.31846884,  9.69162585]),\n",
       "  array([-8.18655975, -2.24164171]),\n",
       "  array([-6.0698976 , 11.05387309]),\n",
       "  array([-8.13278829,  8.01738845]),\n",
       "  array([-5.80825541, 10.90084267]),\n",
       "  array([10.65839678,  2.27828962]),\n",
       "  array([-1.78378852, -5.32391704]),\n",
       "  array([13.52517214,  1.25554774]),\n",
       "  array([15.32646606,  2.2676576 ]),\n",
       "  array([12.76580994,  2.52179903]),\n",
       "  array([-7.02101305,  6.94135431]),\n",
       "  array([-6.57762336,  9.68132709]),\n",
       "  array([-6.57001511, 13.17632439]),\n",
       "  array([-6.52927798, 10.38293843]),\n",
       "  array([-5.35052827,  8.86122745]),\n",
       "  array([-8.80093604,  7.78550722]),\n",
       "  array([10.82799974,  1.8701894 ]),\n",
       "  array([-9.36004771, -4.96188286]),\n",
       "  array([-0.70218787, -6.78825683]),\n",
       "  array([12.12173947, -1.77177808]),\n",
       "  array([13.84014452,  1.24128561]),\n",
       "  array([-4.34317404, -8.35412973]),\n",
       "  array([-7.22672126,  6.09574228]),\n",
       "  array([-3.83594211, -6.61700495]),\n",
       "  array([-2.60652009,  9.3581089 ]),\n",
       "  array([-4.56476334, 11.13343099]),\n",
       "  array([-7.49306241, -5.57826701]),\n",
       "  array([13.12364924,  3.62399828])]}"
      ]
     },
     "execution_count": 43,
     "metadata": {},
     "output_type": "execute_result"
    }
   ],
   "source": [
    "A = make_classes(X_reduced,C)\n",
    "A"
   ]
  },
  {
   "cell_type": "markdown",
   "metadata": {},
   "source": [
    "Calculate new centroid by taking the average of distances"
   ]
  },
  {
   "cell_type": "code",
   "execution_count": 44,
   "metadata": {},
   "outputs": [],
   "source": [
    "def new_Centroids(data,Centroids):\n",
    "  new_Centroids =[]\n",
    "  A = make_classes(data,Centroids)\n",
    "  for i in range(len(Centroids)):\n",
    "    new_Centroids.append((1/len(A[i]))*sum(A[i]))\n",
    "\n",
    "  return new_Centroids "
   ]
  },
  {
   "cell_type": "markdown",
   "metadata": {},
   "source": [
    "now put everything together and see how centroids change with k =3 and with 3 iteration."
   ]
  },
  {
   "cell_type": "code",
   "execution_count": 45,
   "metadata": {},
   "outputs": [],
   "source": [
    "def initialize_centroids(data,k=2):\n",
    "  Centroids =[]\n",
    "  for _ in range(k):\n",
    "    i = np.random.randint(len(X_reduced))\n",
    "    Centroids.append(X_reduced[i,:])\n",
    "  return Centroids\n",
    "\n",
    "def assignment(x,Centroids):\n",
    "  distances = np.array([distance(x,centroid) for centroid in Centroids])\n",
    "  return np.argmin(distances)\n",
    "\n",
    "def make_classes(data,Centroids):\n",
    "  A = dict()\n",
    "  for i in range(len(Centroids)):\n",
    "    A[i] = []\n",
    "\n",
    "  for x in data:\n",
    "     A[assignment(x,Centroids)].append(x)\n",
    "  return A\n",
    "\n",
    "def new_centroids(data,Centroids):\n",
    "  new_Centroids =[]\n",
    "  A = make_classes(data,Centroids)\n",
    "  for i in range(len(Centroids)):\n",
    "    new_Centroids.append((1/len(A[i]))*sum(A[i]))\n",
    "  return new_Centroids  \n",
    "\n",
    "k=3\n",
    "C0 = initialize_centroids(X_reduced,k=k)\n",
    "C1 = new_centroids(X_reduced,C0)\n",
    "C2 = new_centroids(X_reduced,C1)\n",
    "C3 = new_centroids(X_reduced,C2)"
   ]
  },
  {
   "cell_type": "markdown",
   "metadata": {},
   "source": [
    "Initial state with k=3"
   ]
  },
  {
   "cell_type": "code",
   "execution_count": 46,
   "metadata": {},
   "outputs": [
    {
     "data": {
      "image/png": "[encoded data removed]",
      "text/plain": [
       "<Figure size 432x288 with 1 Axes>"
      ]
     },
     "metadata": {
      "needs_background": "light"
     },
     "output_type": "display_data"
    }
   ],
   "source": [
    "for x in X_reduced:\n",
    "  if assignment(x,C0) == 0:\n",
    "    plt.scatter(x[0],x[1],color='blue')\n",
    "  elif assignment(x,C0) == 1:\n",
    "    plt.scatter(x[0],x[1],color='green')\n",
    "  else:\n",
    "    plt.scatter(x[0],x[1],color='red')"
   ]
  },
  {
   "cell_type": "markdown",
   "metadata": {},
   "source": [
    "Iterate once and new centroid, and it looks better."
   ]
  },
  {
   "cell_type": "code",
   "execution_count": 47,
   "metadata": {},
   "outputs": [
    {
     "data": {
      "image/png": "[encoded data removed]",
      "text/plain": [
       "<Figure size 432x288 with 1 Axes>"
      ]
     },
     "metadata": {
      "needs_background": "light"
     },
     "output_type": "display_data"
    }
   ],
   "source": [
    "for x in X_reduced:\n",
    "  if assignment(x,C1) == 0:\n",
    "    plt.scatter(x[0],x[1],color='blue')\n",
    "  elif assignment(x,C1) == 1:\n",
    "    plt.scatter(x[0],x[1],color='green')\n",
    "  else:\n",
    "    plt.scatter(x[0],x[1],color='red')"
   ]
  },
  {
   "cell_type": "markdown",
   "metadata": {},
   "source": [
    "put everything together again, and now we iterate at most 100 times and when the maximum centroid distance is equal to or less than 0.01, we will stop the iteration. And we also calculate mean square error (the distance between every points and their cluster centroids)"
   ]
  },
  {
   "cell_type": "code",
   "execution_count": 48,
   "metadata": {},
   "outputs": [],
   "source": [
    "def initialize_centroids(data,k=2):\n",
    "  Centroids =[]\n",
    "  for _ in range(k):\n",
    "    i = np.random.randint(len(X_reduced))\n",
    "    Centroids.append(X_reduced[i,:])\n",
    "  return Centroids\n",
    "\n",
    "def assignment(x,Centroids):\n",
    "  distances = np.array([distance(x,centroid) for centroid in Centroids])\n",
    "  return np.argmin(distances)\n",
    "\n",
    "def make_classes(data,Centroids):\n",
    "  A = dict()\n",
    "  for i in range(len(Centroids)):\n",
    "    A[i] = []\n",
    "\n",
    "  for x in data:\n",
    "     A[assignment(x,Centroids)].append(x)\n",
    "  return A\n",
    "\n",
    "def new_centroids(data,Centroids):\n",
    "  new_Centroids =[]\n",
    "  A = make_classes(data,Centroids)\n",
    "  for i in range(len(Centroids)):\n",
    "    new_Centroids.append((1/len(A[i]))*sum(A[i]))\n",
    "  return new_Centroids  \n",
    "\n",
    "def fit(data, k=3, max_iterations=100, epsilon=0.01):\n",
    "  C_old = initialize_centroids(data, k = k)\n",
    "  C_new = new_centroids(data,C_old)\n",
    "  centroid_distances = [distance(p[0],p[1]) for p in zip (C_old,C_new)]\n",
    "  iterations = 0\n",
    "  while max(centroid_distances) > epsilon  and iterations < max_iterations:\n",
    "    C_old, C_new = C_new, new_centroids(data,C_new)\n",
    "    centroid_distances = [distance(p[0],p[1]) for p in zip (C_old,C_new)]\n",
    "    iterations += 1\n",
    "  return C_new\n",
    "\n",
    "\n",
    "def mse_classes(data,Centroids):\n",
    "  errors = []\n",
    "  A_classes = make_classes(data,Centroids)\n",
    "  for i, centroid in enumerate(Centroids):\n",
    "\n",
    "    error = sum(0.5*(centroid-a)@(centroid-a) for a in A_classes[i])\n",
    "    errors.append(error)\n",
    "  return sum(x for x in errors)"
   ]
  },
  {
   "cell_type": "markdown",
   "metadata": {},
   "source": [
    "now we try different k and store in C"
   ]
  },
  {
   "cell_type": "code",
   "execution_count": 49,
   "metadata": {},
   "outputs": [],
   "source": [
    "C1 = fit(X_reduced,k=1)\n",
    "C2 = fit(X_reduced,k=2)\n",
    "C3 = fit(X_reduced,k=3)\n",
    "C4 = fit(X_reduced,k=4)\n",
    "C5 = fit(X_reduced,k=5)\n",
    "C6 = fit(X_reduced,k=6)\n",
    "# C7 = fit(X_reduced,k=7)\n",
    "\n",
    "C = [C2,C3,C4,C5,C6]"
   ]
  },
  {
   "cell_type": "markdown",
   "metadata": {},
   "source": [
    "calculate MSE for different k and plot MSE as a function of k, and apply Elbow method"
   ]
  },
  {
   "cell_type": "code",
   "execution_count": 50,
   "metadata": {},
   "outputs": [
    {
     "data": {
      "text/plain": [
       "Text(0.5, 1.0, 'Elbow method')"
      ]
     },
     "execution_count": 50,
     "metadata": {},
     "output_type": "execute_result"
    },
    {
     "data": {
      "image/png": "[encoded data removed]",
      "text/plain": [
       "<Figure size 720x576 with 1 Axes>"
      ]
     },
     "metadata": {
      "needs_background": "light"
     },
     "output_type": "display_data"
    }
   ],
   "source": [
    "errors = [mse_classes(X_reduced,centroids) for centroids in C]\n",
    "plt.figure(figsize=(10,8))\n",
    "plt.plot([i for i in range(2,7)],errors)\n",
    "plt.xlabel(\"K\")\n",
    "plt.title(\"Elbow method\")"
   ]
  },
  {
   "cell_type": "markdown",
   "metadata": {},
   "source": [
    "#### Conclustion\n",
    "After applying elbow method, we will choose k=4, adn it does match with our true labels that it has 4 centers!"
   ]
  },
  {
   "cell_type": "markdown",
   "metadata": {},
   "source": [
    "#### References\n",
    "Jaadi, Z. (n.d.). A step-by-step explanation of principal component analysis (PCA). Built In. Retrieved November 11, 2021, from https://builtin.com/data-science/step-step-explanation-principal-component-analysis.  \n",
    "\n",
    "Garbade, D. M. J. (2018, September 12). Understanding K-means clustering in machine learning. Medium. Retrieved November 11, 2021, from https://towardsdatascience.com/understanding-k-means-clustering-in-machine-learning-6a6e67336aa1. \n",
    "\n",
    "K means clustering: K means clustering algorithm in machine learning. Analytics Vidhya. (2021, January 22). Retrieved November 11, 2021, from https://www.analyticsvidhya.com/blog/2021/01/in-depth-intuition-of-k-means-clustering-algorithm-in-machine-learning/. \n"
   ]
  }
 ],
 "metadata": {
  "colab": {
   "collapsed_sections": [],
   "name": "K-MeansClustering.ipynb",
   "provenance": []
  },
  "kernelspec": {
   "display_name": "Python 3 (ipykernel)",
   "language": "python",
   "name": "python3"
  },
  "language_info": {
   "codemirror_mode": {
    "name": "ipython",
    "version": 3
   },
   "file_extension": ".py",
   "mimetype": "text/x-python",
   "name": "python",
   "nbconvert_exporter": "python",
   "pygments_lexer": "ipython3",
   "version": "3.8.11"
  }
 },
 "nbformat": 4,
 "nbformat_minor": 1
}
